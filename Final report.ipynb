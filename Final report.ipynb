{
 "cells": [
  {
   "cell_type": "markdown",
   "metadata": {},
   "source": [
    "# Problem Definition"
   ]
  },
  {
   "cell_type": "markdown",
   "metadata": {},
   "source": [
    "### Which features influences it the most ?\n"
   ]
  },
  {
   "cell_type": "markdown",
   "metadata": {},
   "source": [
    "### How to predict the car’s selling price ?"
   ]
  },
  {
   "cell_type": "markdown",
   "metadata": {},
   "source": [
    "### How does MMR compare to the prediction price?"
   ]
  },
  {
   "cell_type": "markdown",
   "metadata": {},
   "source": [
    "# Import Data and data cleaning"
   ]
  },
  {
   "cell_type": "code",
   "execution_count": 1,
   "metadata": {
    "colab": {
     "base_uri": "https://localhost:8080/",
     "height": 929
    },
    "id": "Bj1akoYOlL5_",
    "outputId": "7bae29ab-1212-4753-d61a-f072a91ce40c"
   },
   "outputs": [
    {
     "name": "stderr",
     "output_type": "stream",
     "text": [
      "b'Skipping line 408163: expected 16 fields, saw 17\\nSkipping line 417837: expected 16 fields, saw 17\\nSkipping line 421291: expected 16 fields, saw 17\\nSkipping line 424163: expected 16 fields, saw 17\\n'\n",
      "b'Skipping line 427042: expected 16 fields, saw 17\\nSkipping line 427045: expected 16 fields, saw 17\\nSkipping line 434426: expected 16 fields, saw 17\\nSkipping line 444503: expected 16 fields, saw 17\\nSkipping line 453796: expected 16 fields, saw 17\\n'\n",
      "b'Skipping line 461599: expected 16 fields, saw 17\\nSkipping line 461614: expected 16 fields, saw 17\\n'\n",
      "b'Skipping line 492486: expected 16 fields, saw 17\\nSkipping line 497010: expected 16 fields, saw 17\\nSkipping line 497013: expected 16 fields, saw 17\\nSkipping line 499085: expected 16 fields, saw 17\\nSkipping line 501457: expected 16 fields, saw 17\\nSkipping line 505301: expected 16 fields, saw 17\\nSkipping line 505308: expected 16 fields, saw 17\\nSkipping line 520463: expected 16 fields, saw 17\\n'\n",
      "b'Skipping line 528998: expected 16 fields, saw 17\\nSkipping line 529011: expected 16 fields, saw 17\\nSkipping line 529015: expected 16 fields, saw 17\\nSkipping line 529624: expected 16 fields, saw 17\\nSkipping line 548786: expected 16 fields, saw 17\\nSkipping line 551224: expected 16 fields, saw 17\\nSkipping line 554712: expected 16 fields, saw 17\\n'\n"
     ]
    },
    {
     "data": {
      "text/html": [
       "<div>\n",
       "<style scoped>\n",
       "    .dataframe tbody tr th:only-of-type {\n",
       "        vertical-align: middle;\n",
       "    }\n",
       "\n",
       "    .dataframe tbody tr th {\n",
       "        vertical-align: top;\n",
       "    }\n",
       "\n",
       "    .dataframe thead th {\n",
       "        text-align: right;\n",
       "    }\n",
       "</style>\n",
       "<table border=\"1\" class=\"dataframe\">\n",
       "  <thead>\n",
       "    <tr style=\"text-align: right;\">\n",
       "      <th></th>\n",
       "      <th>year</th>\n",
       "      <th>make</th>\n",
       "      <th>model</th>\n",
       "      <th>trim</th>\n",
       "      <th>body</th>\n",
       "      <th>transmission</th>\n",
       "      <th>vin</th>\n",
       "      <th>state</th>\n",
       "      <th>condition</th>\n",
       "      <th>odometer</th>\n",
       "      <th>color</th>\n",
       "      <th>interior</th>\n",
       "      <th>seller</th>\n",
       "      <th>mmr</th>\n",
       "      <th>sellingprice</th>\n",
       "      <th>saledate</th>\n",
       "      <th>sale_date</th>\n",
       "      <th>sale_year</th>\n",
       "      <th>age</th>\n",
       "    </tr>\n",
       "  </thead>\n",
       "  <tbody>\n",
       "    <tr>\n",
       "      <th>0</th>\n",
       "      <td>2015</td>\n",
       "      <td>kia</td>\n",
       "      <td>sorento</td>\n",
       "      <td>lx</td>\n",
       "      <td>suv</td>\n",
       "      <td>automatic</td>\n",
       "      <td>5xyktca69fg566472</td>\n",
       "      <td>ca</td>\n",
       "      <td>5.0</td>\n",
       "      <td>16639.0</td>\n",
       "      <td>white</td>\n",
       "      <td>black</td>\n",
       "      <td>kia motors america, inc</td>\n",
       "      <td>20500</td>\n",
       "      <td>21500</td>\n",
       "      <td>Tue Dec 16 2014 12:30:00 GMT-0800 (PST)</td>\n",
       "      <td>2014-12-16 04:30:00+00:00</td>\n",
       "      <td>2014</td>\n",
       "      <td>-1</td>\n",
       "    </tr>\n",
       "    <tr>\n",
       "      <th>1</th>\n",
       "      <td>2015</td>\n",
       "      <td>kia</td>\n",
       "      <td>sorento</td>\n",
       "      <td>lx</td>\n",
       "      <td>suv</td>\n",
       "      <td>automatic</td>\n",
       "      <td>5xyktca69fg561319</td>\n",
       "      <td>ca</td>\n",
       "      <td>5.0</td>\n",
       "      <td>9393.0</td>\n",
       "      <td>white</td>\n",
       "      <td>beige</td>\n",
       "      <td>kia motors america, inc</td>\n",
       "      <td>20800</td>\n",
       "      <td>21500</td>\n",
       "      <td>Tue Dec 16 2014 12:30:00 GMT-0800 (PST)</td>\n",
       "      <td>2014-12-16 04:30:00+00:00</td>\n",
       "      <td>2014</td>\n",
       "      <td>-1</td>\n",
       "    </tr>\n",
       "    <tr>\n",
       "      <th>2</th>\n",
       "      <td>2014</td>\n",
       "      <td>bmw</td>\n",
       "      <td>3 series</td>\n",
       "      <td>328i sulev</td>\n",
       "      <td>sedan</td>\n",
       "      <td>automatic</td>\n",
       "      <td>wba3c1c51ek116351</td>\n",
       "      <td>ca</td>\n",
       "      <td>4.5</td>\n",
       "      <td>1331.0</td>\n",
       "      <td>gray</td>\n",
       "      <td>black</td>\n",
       "      <td>financial services remarketing (lease)</td>\n",
       "      <td>31900</td>\n",
       "      <td>30000</td>\n",
       "      <td>Thu Jan 15 2015 04:30:00 GMT-0800 (PST)</td>\n",
       "      <td>2015-01-14 20:30:00+00:00</td>\n",
       "      <td>2015</td>\n",
       "      <td>1</td>\n",
       "    </tr>\n",
       "    <tr>\n",
       "      <th>3</th>\n",
       "      <td>2015</td>\n",
       "      <td>volvo</td>\n",
       "      <td>s60</td>\n",
       "      <td>t5</td>\n",
       "      <td>sedan</td>\n",
       "      <td>automatic</td>\n",
       "      <td>yv1612tb4f1310987</td>\n",
       "      <td>ca</td>\n",
       "      <td>4.1</td>\n",
       "      <td>14282.0</td>\n",
       "      <td>white</td>\n",
       "      <td>black</td>\n",
       "      <td>volvo na rep/world omni</td>\n",
       "      <td>27500</td>\n",
       "      <td>27750</td>\n",
       "      <td>Thu Jan 29 2015 04:30:00 GMT-0800 (PST)</td>\n",
       "      <td>2015-01-28 20:30:00+00:00</td>\n",
       "      <td>2015</td>\n",
       "      <td>0</td>\n",
       "    </tr>\n",
       "    <tr>\n",
       "      <th>4</th>\n",
       "      <td>2014</td>\n",
       "      <td>bmw</td>\n",
       "      <td>6 series gran coupe</td>\n",
       "      <td>650i</td>\n",
       "      <td>sedan</td>\n",
       "      <td>automatic</td>\n",
       "      <td>wba6b2c57ed129731</td>\n",
       "      <td>ca</td>\n",
       "      <td>4.3</td>\n",
       "      <td>2641.0</td>\n",
       "      <td>gray</td>\n",
       "      <td>black</td>\n",
       "      <td>financial services remarketing (lease)</td>\n",
       "      <td>66000</td>\n",
       "      <td>67000</td>\n",
       "      <td>Thu Dec 18 2014 12:30:00 GMT-0800 (PST)</td>\n",
       "      <td>2014-12-18 04:30:00+00:00</td>\n",
       "      <td>2014</td>\n",
       "      <td>0</td>\n",
       "    </tr>\n",
       "  </tbody>\n",
       "</table>\n",
       "</div>"
      ],
      "text/plain": [
       "   year   make                model        trim   body transmission  \\\n",
       "0  2015    kia              sorento          lx    suv    automatic   \n",
       "1  2015    kia              sorento          lx    suv    automatic   \n",
       "2  2014    bmw             3 series  328i sulev  sedan    automatic   \n",
       "3  2015  volvo                  s60          t5  sedan    automatic   \n",
       "4  2014    bmw  6 series gran coupe        650i  sedan    automatic   \n",
       "\n",
       "                 vin state  condition  odometer  color interior  \\\n",
       "0  5xyktca69fg566472    ca        5.0   16639.0  white    black   \n",
       "1  5xyktca69fg561319    ca        5.0    9393.0  white    beige   \n",
       "2  wba3c1c51ek116351    ca        4.5    1331.0   gray    black   \n",
       "3  yv1612tb4f1310987    ca        4.1   14282.0  white    black   \n",
       "4  wba6b2c57ed129731    ca        4.3    2641.0   gray    black   \n",
       "\n",
       "                                   seller    mmr  sellingprice  \\\n",
       "0                 kia motors america, inc  20500         21500   \n",
       "1                 kia motors america, inc  20800         21500   \n",
       "2  financial services remarketing (lease)  31900         30000   \n",
       "3                 volvo na rep/world omni  27500         27750   \n",
       "4  financial services remarketing (lease)  66000         67000   \n",
       "\n",
       "                                  saledate                 sale_date  \\\n",
       "0  Tue Dec 16 2014 12:30:00 GMT-0800 (PST) 2014-12-16 04:30:00+00:00   \n",
       "1  Tue Dec 16 2014 12:30:00 GMT-0800 (PST) 2014-12-16 04:30:00+00:00   \n",
       "2  Thu Jan 15 2015 04:30:00 GMT-0800 (PST) 2015-01-14 20:30:00+00:00   \n",
       "3  Thu Jan 29 2015 04:30:00 GMT-0800 (PST) 2015-01-28 20:30:00+00:00   \n",
       "4  Thu Dec 18 2014 12:30:00 GMT-0800 (PST) 2014-12-18 04:30:00+00:00   \n",
       "\n",
       "   sale_year  age  \n",
       "0       2014   -1  \n",
       "1       2014   -1  \n",
       "2       2015    1  \n",
       "3       2015    0  \n",
       "4       2014    0  "
      ]
     },
     "execution_count": 1,
     "metadata": {},
     "output_type": "execute_result"
    }
   ],
   "source": [
    "import pandas as pd\n",
    "df=pd.read_csv('car_prices.csv',error_bad_lines=False,warn_bad_lines=True)\n",
    "\n",
    "df=df.dropna() # i checked the na values, most of them are not important so I simply dropped them\n",
    "\n",
    "# compute the age of the car when it is sold. makes more sense to me compared to the 'year' attribute\n",
    "df['sale_date'] = pd.to_datetime(df['saledate'],utc=True)\n",
    "df['sale_year']=df['sale_date'].dt.year\n",
    "df['age']=df['sale_year']-df['year']\n",
    "\n",
    "df['make']=df['make'].map(lambda x:str(x).lower()) # all characters would be lower-case so that there's less 'nuinque'\n",
    "df['model']=df['model'].map(lambda x:str(x).lower())\n",
    "df['trim']=df['trim'].map(lambda x:str(x).lower())\n",
    "df['body']=df['body'].map(lambda x:str(x).lower())\n",
    "\n",
    "df.head()"
   ]
  },
  {
   "cell_type": "markdown",
   "metadata": {},
   "source": [
    "### First, we dropped all the rows with 'NA' values. Then, we extracted a new variable from Sale Date and Year. This is because having an \"Age\" attribute may prove to be more important for the predictions than having a \"Year\" attribute. For uniformity, we changed all characters in the dataset to lowercase.\n",
    "\n",
    "#### The dataset includes the following variables:\n",
    "1. Year (Model year)\n",
    "2. Make (Car brand)\n",
    "3. Model (Car edition)\n",
    "4. Trim (Car trim level; the model version)\n",
    "5. Body (Car shape/body type)\n",
    "6. Transmission (Power mechanism in the car)\n",
    "7. VIN (Vehicle Identification Number)\n",
    "8. State (The state where the car is being auctioned)\n",
    "9. Condition (Car condition at time of auction)\n",
    "10. Odometer (Car mileage)\n",
    "11. Color (Exterior colour)\n",
    "12. Interior (Interior colour)\n",
    "13. Seller (Car seller)\n",
    "14. MMR (Manheim Market Report)\n",
    "15. Selling price (The price at which the car was sold at the auction)\n",
    "16. Sale Date (The date the price was auctioned)\n",
    "17. Sale Year (The year the car was auctioned; extracted from the Sale Date variable)\n",
    "18. Age (The age of the car at time of auction; extracted by subtracting the Year from the Sale Year)\n",
    "\n"
   ]
  },
  {
   "cell_type": "code",
   "execution_count": 2,
   "metadata": {
    "colab": {
     "base_uri": "https://localhost:8080/",
     "height": 206
    },
    "id": "9L0mfrkMliz2",
    "outputId": "adc43e50-0c32-4a2f-e037-3c8facc73970"
   },
   "outputs": [
    {
     "data": {
      "text/html": [
       "<div>\n",
       "<style scoped>\n",
       "    .dataframe tbody tr th:only-of-type {\n",
       "        vertical-align: middle;\n",
       "    }\n",
       "\n",
       "    .dataframe tbody tr th {\n",
       "        vertical-align: top;\n",
       "    }\n",
       "\n",
       "    .dataframe thead th {\n",
       "        text-align: right;\n",
       "    }\n",
       "</style>\n",
       "<table border=\"1\" class=\"dataframe\">\n",
       "  <thead>\n",
       "    <tr style=\"text-align: right;\">\n",
       "      <th></th>\n",
       "      <th>make</th>\n",
       "      <th>model</th>\n",
       "      <th>trim</th>\n",
       "      <th>body</th>\n",
       "      <th>transmission</th>\n",
       "      <th>state</th>\n",
       "      <th>condition</th>\n",
       "      <th>odometer</th>\n",
       "      <th>color</th>\n",
       "      <th>interior</th>\n",
       "      <th>sellingprice</th>\n",
       "      <th>age</th>\n",
       "    </tr>\n",
       "  </thead>\n",
       "  <tbody>\n",
       "    <tr>\n",
       "      <th>2</th>\n",
       "      <td>bmw</td>\n",
       "      <td>3 series</td>\n",
       "      <td>328i sulev</td>\n",
       "      <td>sedan</td>\n",
       "      <td>automatic</td>\n",
       "      <td>ca</td>\n",
       "      <td>4.5</td>\n",
       "      <td>1331.0</td>\n",
       "      <td>gray</td>\n",
       "      <td>black</td>\n",
       "      <td>30000</td>\n",
       "      <td>1</td>\n",
       "    </tr>\n",
       "    <tr>\n",
       "      <th>3</th>\n",
       "      <td>volvo</td>\n",
       "      <td>s60</td>\n",
       "      <td>t5</td>\n",
       "      <td>sedan</td>\n",
       "      <td>automatic</td>\n",
       "      <td>ca</td>\n",
       "      <td>4.1</td>\n",
       "      <td>14282.0</td>\n",
       "      <td>white</td>\n",
       "      <td>black</td>\n",
       "      <td>27750</td>\n",
       "      <td>0</td>\n",
       "    </tr>\n",
       "    <tr>\n",
       "      <th>4</th>\n",
       "      <td>bmw</td>\n",
       "      <td>6 series gran coupe</td>\n",
       "      <td>650i</td>\n",
       "      <td>sedan</td>\n",
       "      <td>automatic</td>\n",
       "      <td>ca</td>\n",
       "      <td>4.3</td>\n",
       "      <td>2641.0</td>\n",
       "      <td>gray</td>\n",
       "      <td>black</td>\n",
       "      <td>67000</td>\n",
       "      <td>0</td>\n",
       "    </tr>\n",
       "    <tr>\n",
       "      <th>6</th>\n",
       "      <td>bmw</td>\n",
       "      <td>m5</td>\n",
       "      <td>base</td>\n",
       "      <td>sedan</td>\n",
       "      <td>automatic</td>\n",
       "      <td>ca</td>\n",
       "      <td>3.4</td>\n",
       "      <td>14943.0</td>\n",
       "      <td>black</td>\n",
       "      <td>black</td>\n",
       "      <td>65000</td>\n",
       "      <td>0</td>\n",
       "    </tr>\n",
       "    <tr>\n",
       "      <th>7</th>\n",
       "      <td>chevrolet</td>\n",
       "      <td>cruze</td>\n",
       "      <td>1lt</td>\n",
       "      <td>sedan</td>\n",
       "      <td>automatic</td>\n",
       "      <td>ca</td>\n",
       "      <td>2.0</td>\n",
       "      <td>28617.0</td>\n",
       "      <td>black</td>\n",
       "      <td>black</td>\n",
       "      <td>9800</td>\n",
       "      <td>0</td>\n",
       "    </tr>\n",
       "  </tbody>\n",
       "</table>\n",
       "</div>"
      ],
      "text/plain": [
       "        make                model        trim   body transmission state  \\\n",
       "2        bmw             3 series  328i sulev  sedan    automatic    ca   \n",
       "3      volvo                  s60          t5  sedan    automatic    ca   \n",
       "4        bmw  6 series gran coupe        650i  sedan    automatic    ca   \n",
       "6        bmw                   m5        base  sedan    automatic    ca   \n",
       "7  chevrolet                cruze         1lt  sedan    automatic    ca   \n",
       "\n",
       "   condition  odometer  color interior  sellingprice  age  \n",
       "2        4.5    1331.0   gray    black         30000    1  \n",
       "3        4.1   14282.0  white    black         27750    0  \n",
       "4        4.3    2641.0   gray    black         67000    0  \n",
       "6        3.4   14943.0  black    black         65000    0  \n",
       "7        2.0   28617.0  black    black          9800    0  "
      ]
     },
     "execution_count": 2,
     "metadata": {},
     "output_type": "execute_result"
    }
   ],
   "source": [
    "# 'vin' is the ID of the car, 'mmr' stands for 'manheim market report', which is a predicted price of the car\n",
    "df1=df.drop(columns=['vin','seller','mmr','sale_date','sale_year','saledate','year'])\n",
    "\n",
    "# some of 'age' are -1 for reasons i dont know, but not a big number, so i just dropped them\n",
    "df1=df1.loc[df['age']>=0,:]\n",
    "\n",
    "df1.head()"
   ]
  },
  {
   "cell_type": "markdown",
   "metadata": {},
   "source": [
    "### VIN and Seller were deleted because their values hold no relevance for the dataset. Sale Date, Sale Year, and Year were deleted because the new \"Age\" variable tells a more concise story. MMR was also deleted, as it's not needed in the preliminary analysis.\n",
    "\n",
    "### Some of the car ages were negative numbers, so they were deleted as well."
   ]
  },
  {
   "cell_type": "markdown",
   "metadata": {},
   "source": [
    "# Data Exploration"
   ]
  },
  {
   "cell_type": "code",
   "execution_count": null,
   "metadata": {},
   "outputs": [],
   "source": [
    "df1.describe()"
   ]
  },
  {
   "cell_type": "code",
   "execution_count": 3,
   "metadata": {},
   "outputs": [
    {
     "data": {
      "text/plain": [
       "<AxesSubplot:>"
      ]
     },
     "execution_count": 3,
     "metadata": {},
     "output_type": "execute_result"
    },
    {
     "data": {
      "image/png": "[encoded data removed]",
      "text/plain": [
       "<Figure size 432x288 with 2 Axes>"
      ]
     },
     "metadata": {
      "needs_background": "light"
     },
     "output_type": "display_data"
    }
   ],
   "source": [
    "import seaborn as sns\n",
    "sns.heatmap(df1.corr(),annot=True)"
   ]
  },
  {
   "cell_type": "markdown",
   "metadata": {},
   "source": [
    "### Based on the heatmap;\n",
    "- As Condition increases, so does Selling Price (and vice versa). Similarly, as Age increases, so does Odometer. \n",
    "- On the other hand, as Age increases, Condition decreases. The same negative relationship applies to Odometer and Condition, Selling Price and Condition, Age and Selling Price, as well as Odometer and Selling Price.\n",
    "\n",
    "#### Though these relationships seem intuitive, they do not indicate causation between the variables."
   ]
  },
  {
   "cell_type": "code",
   "execution_count": 4,
   "metadata": {},
   "outputs": [
    {
     "data": {
      "text/plain": [
       "array([[<AxesSubplot:title={'center':'condition'}>,\n",
       "        <AxesSubplot:title={'center':'odometer'}>],\n",
       "       [<AxesSubplot:title={'center':'sellingprice'}>,\n",
       "        <AxesSubplot:title={'center':'age'}>]], dtype=object)"
      ]
     },
     "execution_count": 4,
     "metadata": {},
     "output_type": "execute_result"
    },
    {
     "data": {
      "image/png": "[encoded data removed]",
      "text/plain": [
       "<Figure size 720x720 with 4 Axes>"
      ]
     },
     "metadata": {
      "needs_background": "light"
     },
     "output_type": "display_data"
    }
   ],
   "source": [
    "import matplotlib.pyplot as plt\n",
    "df1.hist(bins=100,figsize=(10,10))"
   ]
  },
  {
   "cell_type": "markdown",
   "metadata": {},
   "source": [
    "### Based on the histograms;\n",
    "- The Condition values are spread from about 1.9 to 5, with most cars being rated 1.9.\n",
    "- The Age values are skewed right."
   ]
  },
  {
   "cell_type": "markdown",
   "metadata": {},
   "source": [
    "# Data pre-processing"
   ]
  },
  {
   "cell_type": "code",
   "execution_count": 5,
   "metadata": {
    "id": "DWt-h56ylxc-"
   },
   "outputs": [],
   "source": [
    "# in case that we ruin the originial dataframe\n",
    "df2=df1.copy()"
   ]
  },
  {
   "cell_type": "code",
   "execution_count": 6,
   "metadata": {
    "colab": {
     "base_uri": "https://localhost:8080/",
     "height": 206
    },
    "id": "bU1VqjfIl36G",
    "outputId": "6bb1c46a-414f-41dd-cb53-2a040ce93110"
   },
   "outputs": [
    {
     "data": {
      "text/html": [
       "<div>\n",
       "<style scoped>\n",
       "    .dataframe tbody tr th:only-of-type {\n",
       "        vertical-align: middle;\n",
       "    }\n",
       "\n",
       "    .dataframe tbody tr th {\n",
       "        vertical-align: top;\n",
       "    }\n",
       "\n",
       "    .dataframe thead th {\n",
       "        text-align: right;\n",
       "    }\n",
       "</style>\n",
       "<table border=\"1\" class=\"dataframe\">\n",
       "  <thead>\n",
       "    <tr style=\"text-align: right;\">\n",
       "      <th></th>\n",
       "      <th>make</th>\n",
       "      <th>model</th>\n",
       "      <th>trim</th>\n",
       "      <th>body</th>\n",
       "      <th>transmission</th>\n",
       "      <th>state</th>\n",
       "      <th>color</th>\n",
       "      <th>interior</th>\n",
       "      <th>age</th>\n",
       "      <th>condition</th>\n",
       "      <th>odometer</th>\n",
       "      <th>sellingprice</th>\n",
       "      <th>age_cat</th>\n",
       "      <th>condition_cat</th>\n",
       "      <th>odometer_cat</th>\n",
       "    </tr>\n",
       "  </thead>\n",
       "  <tbody>\n",
       "    <tr>\n",
       "      <th>2</th>\n",
       "      <td>bmw</td>\n",
       "      <td>3 series</td>\n",
       "      <td>328i sulev</td>\n",
       "      <td>sedan</td>\n",
       "      <td>automatic</td>\n",
       "      <td>ca</td>\n",
       "      <td>gray</td>\n",
       "      <td>black</td>\n",
       "      <td>1</td>\n",
       "      <td>4.5</td>\n",
       "      <td>1331.0</td>\n",
       "      <td>30000</td>\n",
       "      <td>1.0</td>\n",
       "      <td>4.0</td>\n",
       "      <td>1.0</td>\n",
       "    </tr>\n",
       "    <tr>\n",
       "      <th>3</th>\n",
       "      <td>volvo</td>\n",
       "      <td>s60</td>\n",
       "      <td>t5</td>\n",
       "      <td>sedan</td>\n",
       "      <td>automatic</td>\n",
       "      <td>ca</td>\n",
       "      <td>white</td>\n",
       "      <td>black</td>\n",
       "      <td>0</td>\n",
       "      <td>4.1</td>\n",
       "      <td>14282.0</td>\n",
       "      <td>27750</td>\n",
       "      <td>0.0</td>\n",
       "      <td>4.0</td>\n",
       "      <td>1.0</td>\n",
       "    </tr>\n",
       "    <tr>\n",
       "      <th>4</th>\n",
       "      <td>bmw</td>\n",
       "      <td>6 series gran coupe</td>\n",
       "      <td>650i</td>\n",
       "      <td>sedan</td>\n",
       "      <td>automatic</td>\n",
       "      <td>ca</td>\n",
       "      <td>gray</td>\n",
       "      <td>black</td>\n",
       "      <td>0</td>\n",
       "      <td>4.3</td>\n",
       "      <td>2641.0</td>\n",
       "      <td>67000</td>\n",
       "      <td>0.0</td>\n",
       "      <td>4.0</td>\n",
       "      <td>1.0</td>\n",
       "    </tr>\n",
       "    <tr>\n",
       "      <th>6</th>\n",
       "      <td>bmw</td>\n",
       "      <td>m5</td>\n",
       "      <td>base</td>\n",
       "      <td>sedan</td>\n",
       "      <td>automatic</td>\n",
       "      <td>ca</td>\n",
       "      <td>black</td>\n",
       "      <td>black</td>\n",
       "      <td>0</td>\n",
       "      <td>3.4</td>\n",
       "      <td>14943.0</td>\n",
       "      <td>65000</td>\n",
       "      <td>0.0</td>\n",
       "      <td>3.0</td>\n",
       "      <td>1.0</td>\n",
       "    </tr>\n",
       "    <tr>\n",
       "      <th>7</th>\n",
       "      <td>chevrolet</td>\n",
       "      <td>cruze</td>\n",
       "      <td>1lt</td>\n",
       "      <td>sedan</td>\n",
       "      <td>automatic</td>\n",
       "      <td>ca</td>\n",
       "      <td>black</td>\n",
       "      <td>black</td>\n",
       "      <td>0</td>\n",
       "      <td>2.0</td>\n",
       "      <td>28617.0</td>\n",
       "      <td>9800</td>\n",
       "      <td>0.0</td>\n",
       "      <td>2.0</td>\n",
       "      <td>1.0</td>\n",
       "    </tr>\n",
       "  </tbody>\n",
       "</table>\n",
       "</div>"
      ],
      "text/plain": [
       "        make                model        trim   body transmission state  \\\n",
       "2        bmw             3 series  328i sulev  sedan    automatic    ca   \n",
       "3      volvo                  s60          t5  sedan    automatic    ca   \n",
       "4        bmw  6 series gran coupe        650i  sedan    automatic    ca   \n",
       "6        bmw                   m5        base  sedan    automatic    ca   \n",
       "7  chevrolet                cruze         1lt  sedan    automatic    ca   \n",
       "\n",
       "   color interior  age  condition  odometer  sellingprice  age_cat  \\\n",
       "2   gray    black    1        4.5    1331.0         30000      1.0   \n",
       "3  white    black    0        4.1   14282.0         27750      0.0   \n",
       "4   gray    black    0        4.3    2641.0         67000      0.0   \n",
       "6  black    black    0        3.4   14943.0         65000      0.0   \n",
       "7  black    black    0        2.0   28617.0          9800      0.0   \n",
       "\n",
       "   condition_cat  odometer_cat  \n",
       "2            4.0           1.0  \n",
       "3            4.0           1.0  \n",
       "4            4.0           1.0  \n",
       "6            3.0           1.0  \n",
       "7            2.0           1.0  "
      ]
     },
     "execution_count": 6,
     "metadata": {},
     "output_type": "execute_result"
    }
   ],
   "source": [
    "import numpy as np\n",
    "# reindex the order of the columns to make it more convinient later\n",
    "column_titles=['make', 'model', 'trim', 'body', 'transmission', 'state','color', 'interior',  'age','condition','odometer','sellingprice']\n",
    "df2 = df2.reindex(columns=column_titles)\n",
    "\n",
    "# prepare for shuffling\n",
    "df2['age_cat'] = np.ceil(df2['age'] / 1.5)\n",
    "df2['age_cat'].where(df2['age_cat'] < 10, 10.0, inplace=True)\n",
    "df2['condition_cat']=round(df2['condition'],0)\n",
    "df2['odometer_cat']=np.ceil(df2['odometer']/100000)\n",
    "df2['odometer_cat'].where(df2['odometer_cat'] < 2, 2.0, inplace=True)\n",
    "\n",
    "df2.head()"
   ]
  },
  {
   "cell_type": "code",
   "execution_count": 7,
   "metadata": {
    "id": "s176oml0mLDg"
   },
   "outputs": [],
   "source": [
    "from sklearn.compose import ColumnTransformer\n",
    "from sklearn.preprocessing import OneHotEncoder\n",
    "ct = ColumnTransformer(transformers=[('encoder', OneHotEncoder(sparse=False),['make', 'model', 'body', 'trim','transmission', 'state','color', 'interior'])], remainder='passthrough')\n",
    "nparray=ct.fit_transform(df2)\n",
    "\n",
    "# i transformed the result to dataframe cuz i don't know if numpy array could be directly shuffled.\n",
    "df3=pd.DataFrame(nparray)\n"
   ]
  },
  {
   "cell_type": "code",
   "execution_count": 8,
   "metadata": {
    "id": "060SczeNmP1H"
   },
   "outputs": [],
   "source": [
    "from sklearn.model_selection import StratifiedShuffleSplit\n",
    "\n",
    "split = StratifiedShuffleSplit(n_splits=1, test_size=0.2, random_state=42)\n",
    "for train_index, test_index in split.split(df3, df3.iloc[:,-3:]):\n",
    "    strat_train_set = df3.iloc[train_index]\n",
    "    strat_test_set = df3.iloc[test_index]"
   ]
  },
  {
   "cell_type": "markdown",
   "metadata": {},
   "source": [
    "#### We split the data to create a train set and a test set. "
   ]
  },
  {
   "cell_type": "code",
   "execution_count": 9,
   "metadata": {},
   "outputs": [
    {
     "data": {
      "text/html": [
       "<div>\n",
       "<style scoped>\n",
       "    .dataframe tbody tr th:only-of-type {\n",
       "        vertical-align: middle;\n",
       "    }\n",
       "\n",
       "    .dataframe tbody tr th {\n",
       "        vertical-align: top;\n",
       "    }\n",
       "\n",
       "    .dataframe thead th {\n",
       "        text-align: right;\n",
       "    }\n",
       "</style>\n",
       "<table border=\"1\" class=\"dataframe\">\n",
       "  <thead>\n",
       "    <tr style=\"text-align: right;\">\n",
       "      <th></th>\n",
       "      <th>0</th>\n",
       "      <th>1</th>\n",
       "      <th>2</th>\n",
       "      <th>3</th>\n",
       "      <th>4</th>\n",
       "      <th>5</th>\n",
       "      <th>6</th>\n",
       "      <th>7</th>\n",
       "      <th>8</th>\n",
       "      <th>9</th>\n",
       "      <th>...</th>\n",
       "      <th>2420</th>\n",
       "      <th>2421</th>\n",
       "      <th>2422</th>\n",
       "      <th>2423</th>\n",
       "      <th>2424</th>\n",
       "      <th>2425</th>\n",
       "      <th>2426</th>\n",
       "      <th>2427</th>\n",
       "      <th>2428</th>\n",
       "      <th>2429</th>\n",
       "    </tr>\n",
       "  </thead>\n",
       "  <tbody>\n",
       "    <tr>\n",
       "      <th>158676</th>\n",
       "      <td>0.0</td>\n",
       "      <td>0.0</td>\n",
       "      <td>0.0</td>\n",
       "      <td>0.0</td>\n",
       "      <td>0.0</td>\n",
       "      <td>0.0</td>\n",
       "      <td>0.0</td>\n",
       "      <td>0.0</td>\n",
       "      <td>0.0</td>\n",
       "      <td>0.0</td>\n",
       "      <td>...</td>\n",
       "      <td>0.0</td>\n",
       "      <td>0.0</td>\n",
       "      <td>0.0</td>\n",
       "      <td>10.0</td>\n",
       "      <td>2.4</td>\n",
       "      <td>104340.0</td>\n",
       "      <td>5600.0</td>\n",
       "      <td>7.0</td>\n",
       "      <td>2.0</td>\n",
       "      <td>2.0</td>\n",
       "    </tr>\n",
       "    <tr>\n",
       "      <th>298720</th>\n",
       "      <td>0.0</td>\n",
       "      <td>0.0</td>\n",
       "      <td>0.0</td>\n",
       "      <td>0.0</td>\n",
       "      <td>0.0</td>\n",
       "      <td>0.0</td>\n",
       "      <td>0.0</td>\n",
       "      <td>0.0</td>\n",
       "      <td>0.0</td>\n",
       "      <td>0.0</td>\n",
       "      <td>...</td>\n",
       "      <td>0.0</td>\n",
       "      <td>0.0</td>\n",
       "      <td>0.0</td>\n",
       "      <td>2.0</td>\n",
       "      <td>3.7</td>\n",
       "      <td>38425.0</td>\n",
       "      <td>13000.0</td>\n",
       "      <td>2.0</td>\n",
       "      <td>4.0</td>\n",
       "      <td>1.0</td>\n",
       "    </tr>\n",
       "    <tr>\n",
       "      <th>38427</th>\n",
       "      <td>0.0</td>\n",
       "      <td>0.0</td>\n",
       "      <td>0.0</td>\n",
       "      <td>0.0</td>\n",
       "      <td>0.0</td>\n",
       "      <td>0.0</td>\n",
       "      <td>0.0</td>\n",
       "      <td>0.0</td>\n",
       "      <td>0.0</td>\n",
       "      <td>0.0</td>\n",
       "      <td>...</td>\n",
       "      <td>0.0</td>\n",
       "      <td>0.0</td>\n",
       "      <td>0.0</td>\n",
       "      <td>3.0</td>\n",
       "      <td>3.8</td>\n",
       "      <td>36746.0</td>\n",
       "      <td>10800.0</td>\n",
       "      <td>2.0</td>\n",
       "      <td>4.0</td>\n",
       "      <td>1.0</td>\n",
       "    </tr>\n",
       "    <tr>\n",
       "      <th>441549</th>\n",
       "      <td>0.0</td>\n",
       "      <td>0.0</td>\n",
       "      <td>0.0</td>\n",
       "      <td>0.0</td>\n",
       "      <td>0.0</td>\n",
       "      <td>0.0</td>\n",
       "      <td>0.0</td>\n",
       "      <td>0.0</td>\n",
       "      <td>0.0</td>\n",
       "      <td>0.0</td>\n",
       "      <td>...</td>\n",
       "      <td>0.0</td>\n",
       "      <td>0.0</td>\n",
       "      <td>0.0</td>\n",
       "      <td>3.0</td>\n",
       "      <td>4.0</td>\n",
       "      <td>45468.0</td>\n",
       "      <td>25100.0</td>\n",
       "      <td>2.0</td>\n",
       "      <td>4.0</td>\n",
       "      <td>1.0</td>\n",
       "    </tr>\n",
       "    <tr>\n",
       "      <th>166136</th>\n",
       "      <td>0.0</td>\n",
       "      <td>0.0</td>\n",
       "      <td>0.0</td>\n",
       "      <td>0.0</td>\n",
       "      <td>0.0</td>\n",
       "      <td>0.0</td>\n",
       "      <td>0.0</td>\n",
       "      <td>0.0</td>\n",
       "      <td>0.0</td>\n",
       "      <td>0.0</td>\n",
       "      <td>...</td>\n",
       "      <td>0.0</td>\n",
       "      <td>0.0</td>\n",
       "      <td>0.0</td>\n",
       "      <td>9.0</td>\n",
       "      <td>2.6</td>\n",
       "      <td>135109.0</td>\n",
       "      <td>2900.0</td>\n",
       "      <td>6.0</td>\n",
       "      <td>3.0</td>\n",
       "      <td>2.0</td>\n",
       "    </tr>\n",
       "  </tbody>\n",
       "</table>\n",
       "<p>5 rows × 2430 columns</p>\n",
       "</div>"
      ],
      "text/plain": [
       "        0     1     2     3     4     5     6     7     8     9     ...  2420  \\\n",
       "158676   0.0   0.0   0.0   0.0   0.0   0.0   0.0   0.0   0.0   0.0  ...   0.0   \n",
       "298720   0.0   0.0   0.0   0.0   0.0   0.0   0.0   0.0   0.0   0.0  ...   0.0   \n",
       "38427    0.0   0.0   0.0   0.0   0.0   0.0   0.0   0.0   0.0   0.0  ...   0.0   \n",
       "441549   0.0   0.0   0.0   0.0   0.0   0.0   0.0   0.0   0.0   0.0  ...   0.0   \n",
       "166136   0.0   0.0   0.0   0.0   0.0   0.0   0.0   0.0   0.0   0.0  ...   0.0   \n",
       "\n",
       "        2421  2422  2423  2424      2425     2426  2427  2428  2429  \n",
       "158676   0.0   0.0  10.0   2.4  104340.0   5600.0   7.0   2.0   2.0  \n",
       "298720   0.0   0.0   2.0   3.7   38425.0  13000.0   2.0   4.0   1.0  \n",
       "38427    0.0   0.0   3.0   3.8   36746.0  10800.0   2.0   4.0   1.0  \n",
       "441549   0.0   0.0   3.0   4.0   45468.0  25100.0   2.0   4.0   1.0  \n",
       "166136   0.0   0.0   9.0   2.6  135109.0   2900.0   6.0   3.0   2.0  \n",
       "\n",
       "[5 rows x 2430 columns]"
      ]
     },
     "execution_count": 9,
     "metadata": {},
     "output_type": "execute_result"
    }
   ],
   "source": [
    "strat_test_set.head()"
   ]
  },
  {
   "cell_type": "code",
   "execution_count": 10,
   "metadata": {
    "id": "YiXZElCzmXQj"
   },
   "outputs": [],
   "source": [
    "# drop the 'cat' columns we used for shuffling\n",
    "strat_train_set=strat_train_set.drop(columns=[2427,2428,2429])\n",
    "strat_test_set=strat_test_set.drop(columns=[2427, 2428, 2429])"
   ]
  },
  {
   "cell_type": "code",
   "execution_count": 11,
   "metadata": {
    "id": "FC2F20-Imfnu"
   },
   "outputs": [],
   "source": [
    "X_train,y_train=strat_train_set.iloc[:,:-1].values,strat_train_set.iloc[:,-1].values\n",
    "X_test,y_test=strat_test_set.iloc[:,:-1].values,strat_test_set.iloc[:,-1].values"
   ]
  },
  {
   "cell_type": "code",
   "execution_count": 12,
   "metadata": {
    "id": "qdMO7SPxml8O"
   },
   "outputs": [
    {
     "data": {
      "text/plain": [
       "array([[-0.18657857,  1.13803122, -0.23413206, ...,  0.        ,\n",
       "         0.        ,  0.        ],\n",
       "       [-0.71023956, -0.76991049, -0.74483815, ...,  0.        ,\n",
       "         0.        ,  0.        ],\n",
       "       [-0.71023956, -0.23992668, -0.18147222, ...,  0.        ,\n",
       "         0.        ,  0.        ],\n",
       "       ...,\n",
       "       [-1.23390056,  0.71404418, -0.69021584, ...,  0.        ,\n",
       "         0.        ,  0.        ],\n",
       "       [-0.71023956, -1.61788458,  0.06481879, ...,  0.        ,\n",
       "         0.        ,  0.        ],\n",
       "       [ 0.33708243,  1.24402798, -0.45714269, ...,  0.        ,\n",
       "         0.        ,  0.        ]])"
      ]
     },
     "execution_count": 12,
     "metadata": {},
     "output_type": "execute_result"
    }
   ],
   "source": [
    "from sklearn.preprocessing import StandardScaler\n",
    "from sklearn.compose import ColumnTransformer\n",
    "scaler=StandardScaler()\n",
    "num_attribs=[2423,2424,2425]\n",
    "ct=ColumnTransformer([\n",
    "        (\"num\", StandardScaler(), num_attribs),\n",
    "    ],remainder='passthrough')\n",
    "X_train=ct.fit_transform(X_train)\n",
    "X_train"
   ]
  },
  {
   "cell_type": "code",
   "execution_count": 13,
   "metadata": {},
   "outputs": [],
   "source": [
    "X_test=ct.transform(X_test)"
   ]
  },
  {
   "cell_type": "markdown",
   "metadata": {},
   "source": [
    "# Modeling"
   ]
  },
  {
   "cell_type": "markdown",
   "metadata": {},
   "source": [
    "## Decision Tree"
   ]
  },
  {
   "cell_type": "code",
   "execution_count": 14,
   "metadata": {},
   "outputs": [
    {
     "name": "stdout",
     "output_type": "stream",
     "text": [
      "Wall time: 1min 6s\n"
     ]
    },
    {
     "data": {
      "text/plain": [
       "DecisionTreeRegressor()"
      ]
     },
     "execution_count": 14,
     "metadata": {},
     "output_type": "execute_result"
    }
   ],
   "source": [
    "%%time\n",
    "from sklearn.tree import DecisionTreeRegressor\n",
    "decisiontree = DecisionTreeRegressor()\n",
    "decisiontree.fit(X_train,y_train)"
   ]
  },
  {
   "cell_type": "code",
   "execution_count": 15,
   "metadata": {},
   "outputs": [
    {
     "data": {
      "text/plain": [
       "0.9999999339958096"
      ]
     },
     "execution_count": 15,
     "metadata": {},
     "output_type": "execute_result"
    }
   ],
   "source": [
    "decisiontree.score(X_train,y_train)"
   ]
  },
  {
   "cell_type": "code",
   "execution_count": 16,
   "metadata": {},
   "outputs": [
    {
     "data": {
      "text/plain": [
       "0.9176776720082247"
      ]
     },
     "execution_count": 16,
     "metadata": {},
     "output_type": "execute_result"
    }
   ],
   "source": [
    "decisiontree.score(X_test,y_test)"
   ]
  },
  {
   "cell_type": "markdown",
   "metadata": {},
   "source": [
    "### Decision tree works extremely well on the traing set, but its r-score decreased on the test set. There's a great chance of overfitting so we moved forward to random forest."
   ]
  },
  {
   "cell_type": "markdown",
   "metadata": {},
   "source": [
    "## Random Forest"
   ]
  },
  {
   "cell_type": "code",
   "execution_count": 17,
   "metadata": {},
   "outputs": [
    {
     "name": "stdout",
     "output_type": "stream",
     "text": [
      "Wall time: 18min 48s\n"
     ]
    },
    {
     "data": {
      "text/plain": [
       "RandomForestRegressor(n_jobs=5)"
      ]
     },
     "execution_count": 17,
     "metadata": {},
     "output_type": "execute_result"
    }
   ],
   "source": [
    "%%time\n",
    "from sklearn.ensemble import RandomForestRegressor\n",
    "forest=RandomForestRegressor(n_jobs=5)\n",
    "forest.fit(X_train,y_train)"
   ]
  },
  {
   "cell_type": "code",
   "execution_count": 18,
   "metadata": {},
   "outputs": [
    {
     "data": {
      "text/plain": [
       "0.99397908229943"
      ]
     },
     "execution_count": 18,
     "metadata": {},
     "output_type": "execute_result"
    }
   ],
   "source": [
    "forest.score(X_train,y_train)"
   ]
  },
  {
   "cell_type": "code",
   "execution_count": 19,
   "metadata": {},
   "outputs": [
    {
     "data": {
      "text/plain": [
       "0.9532187805510962"
      ]
     },
     "execution_count": 19,
     "metadata": {},
     "output_type": "execute_result"
    }
   ],
   "source": [
    "forest.score(X_test,y_test)"
   ]
  },
  {
   "cell_type": "markdown",
   "metadata": {},
   "source": [
    "### Random forest works very well on our dataset, however, it is too slow (18min 48s). Considering the speed of grid search, we decided to discover more models. We learned from Google that 'XGBoost' could use GPU to accelerate the process of calculating. So we had a try on this new algorithm."
   ]
  },
  {
   "cell_type": "markdown",
   "metadata": {},
   "source": [
    "## XGBoost"
   ]
  },
  {
   "cell_type": "code",
   "execution_count": 4,
   "metadata": {},
   "outputs": [
    {
     "name": "stdout",
     "output_type": "stream",
     "text": [
      "CPU times: user 23 µs, sys: 0 ns, total: 23 µs\n",
      "Wall time: 24.8 µs\n"
     ]
    }
   ],
   "source": [
    "%%time\n",
    "#!pip install xgboost\n",
    "import xgboost as xgb\n",
    "bst=xgb.XGBRegressor(objective ='reg:squarederror',n_jobs=-1,tree_method='gpu_hist')"
   ]
  },
  {
   "cell_type": "code",
   "execution_count": 23,
   "metadata": {},
   "outputs": [
    {
     "data": {
      "text/plain": [
       "0.9275683008284128"
      ]
     },
     "execution_count": 23,
     "metadata": {},
     "output_type": "execute_result"
    }
   ],
   "source": [
    "bst.score(X_train,y_train)"
   ]
  },
  {
   "cell_type": "code",
   "execution_count": 24,
   "metadata": {},
   "outputs": [
    {
     "data": {
      "text/plain": [
       "0.9190767500735787"
      ]
     },
     "execution_count": 24,
     "metadata": {},
     "output_type": "execute_result"
    }
   ],
   "source": [
    "bst.score(X_test,y_test)"
   ]
  },
  {
   "cell_type": "markdown",
   "metadata": {},
   "source": [
    "### XGBoost gives a time-efficient model with good scores. So, we can move on to tune the hyperparameters using GridSearch."
   ]
  },
  {
   "cell_type": "markdown",
   "metadata": {},
   "source": [
    "# Grid  search "
   ]
  },
  {
   "cell_type": "markdown",
   "metadata": {},
   "source": [
    "### Tuning the n_estimators\n"
   ]
  },
  {
   "cell_type": "code",
   "execution_count": 26,
   "metadata": {},
   "outputs": [
    {
     "name": "stdout",
     "output_type": "stream",
     "text": [
      "Wall time: 25min 41s\n"
     ]
    },
    {
     "data": {
      "text/plain": [
       "GridSearchCV(cv=3,\n",
       "             estimator=XGBRegressor(base_score=None, booster=None,\n",
       "                                    colsample_bylevel=None,\n",
       "                                    colsample_bynode=None,\n",
       "                                    colsample_bytree=None,\n",
       "                                    enable_categorical=False, gamma=None,\n",
       "                                    gpu_id=None, importance_type=None,\n",
       "                                    interaction_constraints=None,\n",
       "                                    learning_rate=None, max_delta_step=None,\n",
       "                                    max_depth=None, min_child_weight=None,\n",
       "                                    missing=nan, monotone_constraints=None,\n",
       "                                    n_estimators=100, n_jobs=-1,\n",
       "                                    num_parallel_tree=None, predictor=None,\n",
       "                                    random_state=None, reg_alpha=None,\n",
       "                                    reg_lambda=None, scale_pos_weight=None,\n",
       "                                    subsample=None, tree_method='gpu_hist',\n",
       "                                    validate_parameters=None, verbosity=None),\n",
       "             param_grid=[{'n_estimators': [400, 500, 600, 700, 800, 900,\n",
       "                                           1000]}],\n",
       "             return_train_score=True, scoring='r2')"
      ]
     },
     "execution_count": 26,
     "metadata": {},
     "output_type": "execute_result"
    }
   ],
   "source": [
    "%%time\n",
    "import xgboost as xgb\n",
    "from sklearn.model_selection import GridSearchCV\n",
    "\n",
    "param_grid = [\n",
    "    {'n_estimators': [400,500,600,700,800,900,1000]},\n",
    "  ]\n",
    "\n",
    "bst1=xgb.XGBRegressor(objective ='reg:squarederror',n_jobs=-1,tree_method='gpu_hist')\n",
    "\n",
    "grid_search1 = GridSearchCV(bst1, param_grid, cv=3,\n",
    "                           scoring='r2', return_train_score=True)\n",
    "                           \n",
    "grid_search1.fit(X_train, y_train)"
   ]
  },
  {
   "cell_type": "code",
   "execution_count": 27,
   "metadata": {},
   "outputs": [
    {
     "data": {
      "text/plain": [
       "XGBRegressor(base_score=0.5, booster='gbtree', colsample_bylevel=1,\n",
       "             colsample_bynode=1, colsample_bytree=1, enable_categorical=False,\n",
       "             gamma=0, gpu_id=0, importance_type=None,\n",
       "             interaction_constraints='', learning_rate=0.300000012,\n",
       "             max_delta_step=0, max_depth=6, min_child_weight=1, missing=nan,\n",
       "             monotone_constraints='()', n_estimators=1000, n_jobs=-1,\n",
       "             num_parallel_tree=1, predictor='auto', random_state=0, reg_alpha=0,\n",
       "             reg_lambda=1, scale_pos_weight=1, subsample=1,\n",
       "             tree_method='gpu_hist', validate_parameters=1, verbosity=None)"
      ]
     },
     "execution_count": 27,
     "metadata": {},
     "output_type": "execute_result"
    }
   ],
   "source": [
    "grid_search1.best_estimator_"
   ]
  },
  {
   "cell_type": "code",
   "execution_count": 28,
   "metadata": {},
   "outputs": [
    {
     "data": {
      "text/plain": [
       "0.9746492158148162"
      ]
     },
     "execution_count": 28,
     "metadata": {},
     "output_type": "execute_result"
    }
   ],
   "source": [
    "grid_search1.score(X_train,y_train)"
   ]
  },
  {
   "cell_type": "code",
   "execution_count": 29,
   "metadata": {},
   "outputs": [
    {
     "data": {
      "text/plain": [
       "0.962125982482194"
      ]
     },
     "execution_count": 29,
     "metadata": {},
     "output_type": "execute_result"
    }
   ],
   "source": [
    "grid_search1.score(X_test,y_test)"
   ]
  },
  {
   "cell_type": "markdown",
   "metadata": {},
   "source": [
    "### Tuning the max_depth"
   ]
  },
  {
   "cell_type": "code",
   "execution_count": 30,
   "metadata": {},
   "outputs": [
    {
     "name": "stdout",
     "output_type": "stream",
     "text": [
      "Wall time: 41min 17s\n"
     ]
    },
    {
     "data": {
      "text/plain": [
       "GridSearchCV(cv=3,\n",
       "             estimator=XGBRegressor(base_score=None, booster=None,\n",
       "                                    colsample_bylevel=None,\n",
       "                                    colsample_bynode=None,\n",
       "                                    colsample_bytree=None,\n",
       "                                    enable_categorical=False, gamma=None,\n",
       "                                    gpu_id=None, importance_type=None,\n",
       "                                    interaction_constraints=None,\n",
       "                                    learning_rate=None, max_delta_step=None,\n",
       "                                    max_depth=None, min_child_weight=None,\n",
       "                                    missing=nan, monotone_constraints=None,\n",
       "                                    n_estimators=1000, n_jobs=-1,\n",
       "                                    num_parallel_tree=None, predictor=None,\n",
       "                                    random_state=None, reg_alpha=None,\n",
       "                                    reg_lambda=None, scale_pos_weight=None,\n",
       "                                    subsample=None, tree_method='gpu_hist',\n",
       "                                    validate_parameters=None, verbosity=None),\n",
       "             param_grid=[{'max_depth': [5, 6, 7, 8, 9, 10]}],\n",
       "             return_train_score=True, scoring='r2')"
      ]
     },
     "execution_count": 30,
     "metadata": {},
     "output_type": "execute_result"
    }
   ],
   "source": [
    "%%time\n",
    "param_grid = [\n",
    "    {'max_depth': [5,6,7,8,9,10]},\n",
    "  ]\n",
    "\n",
    "bst2=xgb.XGBRegressor(objective ='reg:squarederror',n_jobs=-1,tree_method='gpu_hist',n_estimators=1000)\n",
    "\n",
    "grid_search2 = GridSearchCV(bst2, param_grid, cv=3,\n",
    "                           scoring='r2', return_train_score=True)\n",
    "                           \n",
    "grid_search2.fit(X_train, y_train)"
   ]
  },
  {
   "cell_type": "code",
   "execution_count": 31,
   "metadata": {},
   "outputs": [
    {
     "data": {
      "text/plain": [
       "XGBRegressor(base_score=0.5, booster='gbtree', colsample_bylevel=1,\n",
       "             colsample_bynode=1, colsample_bytree=1, enable_categorical=False,\n",
       "             gamma=0, gpu_id=0, importance_type=None,\n",
       "             interaction_constraints='', learning_rate=0.300000012,\n",
       "             max_delta_step=0, max_depth=8, min_child_weight=1, missing=nan,\n",
       "             monotone_constraints='()', n_estimators=1000, n_jobs=-1,\n",
       "             num_parallel_tree=1, predictor='auto', random_state=0, reg_alpha=0,\n",
       "             reg_lambda=1, scale_pos_weight=1, subsample=1,\n",
       "             tree_method='gpu_hist', validate_parameters=1, verbosity=None)"
      ]
     },
     "execution_count": 31,
     "metadata": {},
     "output_type": "execute_result"
    }
   ],
   "source": [
    "grid_search2.best_estimator_"
   ]
  },
  {
   "cell_type": "code",
   "execution_count": 32,
   "metadata": {},
   "outputs": [
    {
     "data": {
      "text/plain": [
       "0.9809813885666147"
      ]
     },
     "execution_count": 32,
     "metadata": {},
     "output_type": "execute_result"
    }
   ],
   "source": [
    "grid_search2.score(X_train,y_train)"
   ]
  },
  {
   "cell_type": "code",
   "execution_count": 33,
   "metadata": {},
   "outputs": [
    {
     "data": {
      "text/plain": [
       "0.9630223836301666"
      ]
     },
     "execution_count": 33,
     "metadata": {},
     "output_type": "execute_result"
    }
   ],
   "source": [
    "grid_search2.score(X_test,y_test)"
   ]
  },
  {
   "cell_type": "markdown",
   "metadata": {},
   "source": [
    "### Tuning the learning rate"
   ]
  },
  {
   "cell_type": "code",
   "execution_count": 34,
   "metadata": {},
   "outputs": [
    {
     "name": "stdout",
     "output_type": "stream",
     "text": [
      "Wall time: 45min 54s\n"
     ]
    },
    {
     "data": {
      "text/plain": [
       "GridSearchCV(cv=3,\n",
       "             estimator=XGBRegressor(base_score=None, booster=None,\n",
       "                                    colsample_bylevel=None,\n",
       "                                    colsample_bynode=None,\n",
       "                                    colsample_bytree=None,\n",
       "                                    enable_categorical=False, gamma=None,\n",
       "                                    gpu_id=None, importance_type=None,\n",
       "                                    interaction_constraints=None,\n",
       "                                    learning_rate=None, max_delta_step=None,\n",
       "                                    max_depth=8, min_child_weight=None,\n",
       "                                    missing=nan, monotone_constraints=None,\n",
       "                                    n_estimators=1000, n_jobs=-1,\n",
       "                                    num_parallel_tree=None, predictor=None,\n",
       "                                    random_state=None, reg_alpha=None,\n",
       "                                    reg_lambda=None, scale_pos_weight=None,\n",
       "                                    subsample=None, tree_method='gpu_hist',\n",
       "                                    validate_parameters=None, verbosity=None),\n",
       "             param_grid=[{'learning_rate': [0.01, 0.03, 0.05, 0.1, 0.2, 0.3]}],\n",
       "             return_train_score=True, scoring='r2')"
      ]
     },
     "execution_count": 34,
     "metadata": {},
     "output_type": "execute_result"
    }
   ],
   "source": [
    "%%time\n",
    "param_grid = [\n",
    "    {'learning_rate': [0.01,0.03,0.05,0.1,0.2,0.3]},\n",
    "  ]\n",
    "\n",
    "bst3=xgb.XGBRegressor(objective ='reg:squarederror',n_jobs=-1,tree_method='gpu_hist',n_estimators=1000,max_depth=8)\n",
    "\n",
    "grid_search3 = GridSearchCV(bst3, param_grid, cv=3,\n",
    "                           scoring='r2', return_train_score=True)\n",
    "                           \n",
    "grid_search3.fit(X_train, y_train)"
   ]
  },
  {
   "cell_type": "code",
   "execution_count": 35,
   "metadata": {},
   "outputs": [
    {
     "data": {
      "text/plain": [
       "XGBRegressor(base_score=0.5, booster='gbtree', colsample_bylevel=1,\n",
       "             colsample_bynode=1, colsample_bytree=1, enable_categorical=False,\n",
       "             gamma=0, gpu_id=0, importance_type=None,\n",
       "             interaction_constraints='', learning_rate=0.3, max_delta_step=0,\n",
       "             max_depth=8, min_child_weight=1, missing=nan,\n",
       "             monotone_constraints='()', n_estimators=1000, n_jobs=-1,\n",
       "             num_parallel_tree=1, predictor='auto', random_state=0, reg_alpha=0,\n",
       "             reg_lambda=1, scale_pos_weight=1, subsample=1,\n",
       "             tree_method='gpu_hist', validate_parameters=1, verbosity=None)"
      ]
     },
     "execution_count": 35,
     "metadata": {},
     "output_type": "execute_result"
    }
   ],
   "source": [
    "grid_search3.best_estimator_"
   ]
  },
  {
   "cell_type": "code",
   "execution_count": 36,
   "metadata": {},
   "outputs": [
    {
     "data": {
      "text/plain": [
       "0.9809813885666147"
      ]
     },
     "execution_count": 36,
     "metadata": {},
     "output_type": "execute_result"
    }
   ],
   "source": [
    "grid_search3.score(X_train,y_train)"
   ]
  },
  {
   "cell_type": "code",
   "execution_count": 37,
   "metadata": {},
   "outputs": [
    {
     "data": {
      "text/plain": [
       "0.9630223836301666"
      ]
     },
     "execution_count": 37,
     "metadata": {},
     "output_type": "execute_result"
    }
   ],
   "source": [
    "grid_search3.score(X_test,y_test)"
   ]
  },
  {
   "cell_type": "markdown",
   "metadata": {},
   "source": [
    "based on grid search, 'grid_search3' gives the best result."
   ]
  },
  {
   "cell_type": "code",
   "execution_count": 38,
   "metadata": {
    "scrolled": true
   },
   "outputs": [
    {
     "name": "stdout",
     "output_type": "stream",
     "text": [
      "XGBRegressor(base_score=0.5, booster='gbtree', colsample_bylevel=1,\n",
      "             colsample_bynode=1, colsample_bytree=1, enable_categorical=False,\n",
      "             gamma=0, gpu_id=0, importance_type=None,\n",
      "             interaction_constraints='', learning_rate=0.3, max_delta_step=0,\n",
      "             max_depth=8, min_child_weight=1, missing=nan,\n",
      "             monotone_constraints='()', n_estimators=1000, n_jobs=-1,\n",
      "             num_parallel_tree=1, predictor='auto', random_state=0, reg_alpha=0,\n",
      "             reg_lambda=1, scale_pos_weight=1, subsample=1,\n",
      "             tree_method='gpu_hist', validate_parameters=1, verbosity=None)\n",
      "0.9809813885666147\n",
      "0.9630223836301666\n"
     ]
    }
   ],
   "source": [
    "print(grid_search3.best_estimator_)\n",
    "print(grid_search3.score(X_train,y_train))\n",
    "print(grid_search3.score(X_test,y_test))"
   ]
  },
  {
   "cell_type": "code",
   "execution_count": 39,
   "metadata": {},
   "outputs": [
    {
     "data": {
      "text/plain": [
       "1326.3514838517399"
      ]
     },
     "execution_count": 39,
     "metadata": {},
     "output_type": "execute_result"
    }
   ],
   "source": [
    "from sklearn.metrics import mean_squared_error\n",
    "mean_squared_error(grid_search3.predict(X_train),y_train,squared=False)"
   ]
  },
  {
   "cell_type": "code",
   "execution_count": 40,
   "metadata": {},
   "outputs": [
    {
     "data": {
      "text/plain": [
       "1840.4256469849538"
      ]
     },
     "execution_count": 40,
     "metadata": {},
     "output_type": "execute_result"
    }
   ],
   "source": [
    "mean_squared_error(grid_search3.predict(X_test),y_test,squared=False)"
   ]
  },
  {
   "cell_type": "markdown",
   "metadata": {},
   "source": [
    "### We can use grid search to tune the parameters to find the best estimators. However, it turned out to be so time-consuming that we had to resort to the next two ways to process the data even further.\n"
   ]
  },
  {
   "cell_type": "markdown",
   "metadata": {},
   "source": [
    "## Further Data Processing"
   ]
  },
  {
   "cell_type": "markdown",
   "metadata": {},
   "source": [
    "#### As we discovered above, 'one hot encoding' can produce a huge dimension if one column has high cardinality. To accelerate our model, we have to try to reduce the dimension while keep the accuracy of our model as high as possible."
   ]
  },
  {
   "cell_type": "markdown",
   "metadata": {},
   "source": [
    "### Modify lower frequency categories"
   ]
  },
  {
   "cell_type": "code",
   "execution_count": 41,
   "metadata": {},
   "outputs": [],
   "source": [
    "df4=df2.copy()"
   ]
  },
  {
   "cell_type": "code",
   "execution_count": 42,
   "metadata": {},
   "outputs": [
    {
     "data": {
      "text/plain": [
       "1488"
      ]
     },
     "execution_count": 42,
     "metadata": {},
     "output_type": "execute_result"
    }
   ],
   "source": [
    "df4['trim'].nunique()"
   ]
  },
  {
   "cell_type": "code",
   "execution_count": 43,
   "metadata": {},
   "outputs": [
    {
     "data": {
      "text/plain": [
       "(0.0, 13000.0)"
      ]
     },
     "execution_count": 43,
     "metadata": {},
     "output_type": "execute_result"
    },
    {
     "data": {
      "image/png": "[encoded data removed]",
      "text/plain": [
       "<Figure size 432x288 with 1 Axes>"
      ]
     },
     "metadata": {
      "needs_background": "light"
     },
     "output_type": "display_data"
    }
   ],
   "source": [
    "import seaborn as sns\n",
    "import matplotlib.pyplot as plt\n",
    "ax=sns.countplot(x='trim',data=df4,order=df4['trim'].value_counts().index)\n",
    "ax.set_xticks([]) \n",
    "plt.ylim(0,13000)"
   ]
  },
  {
   "cell_type": "markdown",
   "metadata": {},
   "source": [
    "#### Based on the graph above, we can see that most categories are concentrated at the top 10% of 'value_counts', which is around 400,000 rows. We decided to change the other categories that are around 10% lowest frequency into 'others' to reduce the dimension after 'one hot encoding'. "
   ]
  },
  {
   "cell_type": "code",
   "execution_count": 44,
   "metadata": {},
   "outputs": [],
   "source": [
    "trim_freq=df4['trim'].value_counts(normalize=True)\n",
    "df4.loc[df4['trim'].isin(trim_freq[trim_freq<=trim_freq.quantile(q=0.9)].index),'trim']='others'"
   ]
  },
  {
   "cell_type": "code",
   "execution_count": 45,
   "metadata": {},
   "outputs": [],
   "source": [
    "from sklearn.compose import ColumnTransformer\n",
    "from sklearn.preprocessing import OneHotEncoder\n",
    "ct = ColumnTransformer(transformers=[('encoder', OneHotEncoder(sparse=False),['make', 'model', 'trim', 'body', 'transmission', 'state','color', 'interior'])], remainder='passthrough')\n",
    "nparray=ct.fit_transform(df4)\n",
    "df5=pd.DataFrame(nparray)"
   ]
  },
  {
   "cell_type": "code",
   "execution_count": 46,
   "metadata": {},
   "outputs": [
    {
     "data": {
      "text/html": [
       "<div>\n",
       "<style scoped>\n",
       "    .dataframe tbody tr th:only-of-type {\n",
       "        vertical-align: middle;\n",
       "    }\n",
       "\n",
       "    .dataframe tbody tr th {\n",
       "        vertical-align: top;\n",
       "    }\n",
       "\n",
       "    .dataframe thead th {\n",
       "        text-align: right;\n",
       "    }\n",
       "</style>\n",
       "<table border=\"1\" class=\"dataframe\">\n",
       "  <thead>\n",
       "    <tr style=\"text-align: right;\">\n",
       "      <th></th>\n",
       "      <th>0</th>\n",
       "      <th>1</th>\n",
       "      <th>2</th>\n",
       "      <th>3</th>\n",
       "      <th>4</th>\n",
       "      <th>5</th>\n",
       "      <th>6</th>\n",
       "      <th>7</th>\n",
       "      <th>8</th>\n",
       "      <th>9</th>\n",
       "      <th>...</th>\n",
       "      <th>1082</th>\n",
       "      <th>1083</th>\n",
       "      <th>1084</th>\n",
       "      <th>1085</th>\n",
       "      <th>1086</th>\n",
       "      <th>1087</th>\n",
       "      <th>1088</th>\n",
       "      <th>1089</th>\n",
       "      <th>1090</th>\n",
       "      <th>1091</th>\n",
       "    </tr>\n",
       "  </thead>\n",
       "  <tbody>\n",
       "    <tr>\n",
       "      <th>0</th>\n",
       "      <td>0.0</td>\n",
       "      <td>0.0</td>\n",
       "      <td>0.0</td>\n",
       "      <td>0.0</td>\n",
       "      <td>1.0</td>\n",
       "      <td>0.0</td>\n",
       "      <td>0.0</td>\n",
       "      <td>0.0</td>\n",
       "      <td>0.0</td>\n",
       "      <td>0.0</td>\n",
       "      <td>...</td>\n",
       "      <td>0.0</td>\n",
       "      <td>0.0</td>\n",
       "      <td>0.0</td>\n",
       "      <td>1.0</td>\n",
       "      <td>4.5</td>\n",
       "      <td>1331.0</td>\n",
       "      <td>30000.0</td>\n",
       "      <td>1.0</td>\n",
       "      <td>4.0</td>\n",
       "      <td>1.0</td>\n",
       "    </tr>\n",
       "    <tr>\n",
       "      <th>1</th>\n",
       "      <td>0.0</td>\n",
       "      <td>0.0</td>\n",
       "      <td>0.0</td>\n",
       "      <td>0.0</td>\n",
       "      <td>0.0</td>\n",
       "      <td>0.0</td>\n",
       "      <td>0.0</td>\n",
       "      <td>0.0</td>\n",
       "      <td>0.0</td>\n",
       "      <td>0.0</td>\n",
       "      <td>...</td>\n",
       "      <td>0.0</td>\n",
       "      <td>0.0</td>\n",
       "      <td>0.0</td>\n",
       "      <td>0.0</td>\n",
       "      <td>4.1</td>\n",
       "      <td>14282.0</td>\n",
       "      <td>27750.0</td>\n",
       "      <td>0.0</td>\n",
       "      <td>4.0</td>\n",
       "      <td>1.0</td>\n",
       "    </tr>\n",
       "    <tr>\n",
       "      <th>2</th>\n",
       "      <td>0.0</td>\n",
       "      <td>0.0</td>\n",
       "      <td>0.0</td>\n",
       "      <td>0.0</td>\n",
       "      <td>1.0</td>\n",
       "      <td>0.0</td>\n",
       "      <td>0.0</td>\n",
       "      <td>0.0</td>\n",
       "      <td>0.0</td>\n",
       "      <td>0.0</td>\n",
       "      <td>...</td>\n",
       "      <td>0.0</td>\n",
       "      <td>0.0</td>\n",
       "      <td>0.0</td>\n",
       "      <td>0.0</td>\n",
       "      <td>4.3</td>\n",
       "      <td>2641.0</td>\n",
       "      <td>67000.0</td>\n",
       "      <td>0.0</td>\n",
       "      <td>4.0</td>\n",
       "      <td>1.0</td>\n",
       "    </tr>\n",
       "    <tr>\n",
       "      <th>3</th>\n",
       "      <td>0.0</td>\n",
       "      <td>0.0</td>\n",
       "      <td>0.0</td>\n",
       "      <td>0.0</td>\n",
       "      <td>1.0</td>\n",
       "      <td>0.0</td>\n",
       "      <td>0.0</td>\n",
       "      <td>0.0</td>\n",
       "      <td>0.0</td>\n",
       "      <td>0.0</td>\n",
       "      <td>...</td>\n",
       "      <td>0.0</td>\n",
       "      <td>0.0</td>\n",
       "      <td>0.0</td>\n",
       "      <td>0.0</td>\n",
       "      <td>3.4</td>\n",
       "      <td>14943.0</td>\n",
       "      <td>65000.0</td>\n",
       "      <td>0.0</td>\n",
       "      <td>3.0</td>\n",
       "      <td>1.0</td>\n",
       "    </tr>\n",
       "    <tr>\n",
       "      <th>4</th>\n",
       "      <td>0.0</td>\n",
       "      <td>0.0</td>\n",
       "      <td>0.0</td>\n",
       "      <td>0.0</td>\n",
       "      <td>0.0</td>\n",
       "      <td>0.0</td>\n",
       "      <td>0.0</td>\n",
       "      <td>1.0</td>\n",
       "      <td>0.0</td>\n",
       "      <td>0.0</td>\n",
       "      <td>...</td>\n",
       "      <td>0.0</td>\n",
       "      <td>0.0</td>\n",
       "      <td>0.0</td>\n",
       "      <td>0.0</td>\n",
       "      <td>2.0</td>\n",
       "      <td>28617.0</td>\n",
       "      <td>9800.0</td>\n",
       "      <td>0.0</td>\n",
       "      <td>2.0</td>\n",
       "      <td>1.0</td>\n",
       "    </tr>\n",
       "  </tbody>\n",
       "</table>\n",
       "<p>5 rows × 1092 columns</p>\n",
       "</div>"
      ],
      "text/plain": [
       "   0     1     2     3     4     5     6     7     8     9     ...  1082  \\\n",
       "0   0.0   0.0   0.0   0.0   1.0   0.0   0.0   0.0   0.0   0.0  ...   0.0   \n",
       "1   0.0   0.0   0.0   0.0   0.0   0.0   0.0   0.0   0.0   0.0  ...   0.0   \n",
       "2   0.0   0.0   0.0   0.0   1.0   0.0   0.0   0.0   0.0   0.0  ...   0.0   \n",
       "3   0.0   0.0   0.0   0.0   1.0   0.0   0.0   0.0   0.0   0.0  ...   0.0   \n",
       "4   0.0   0.0   0.0   0.0   0.0   0.0   0.0   1.0   0.0   0.0  ...   0.0   \n",
       "\n",
       "   1083  1084  1085  1086     1087     1088  1089  1090  1091  \n",
       "0   0.0   0.0   1.0   4.5   1331.0  30000.0   1.0   4.0   1.0  \n",
       "1   0.0   0.0   0.0   4.1  14282.0  27750.0   0.0   4.0   1.0  \n",
       "2   0.0   0.0   0.0   4.3   2641.0  67000.0   0.0   4.0   1.0  \n",
       "3   0.0   0.0   0.0   3.4  14943.0  65000.0   0.0   3.0   1.0  \n",
       "4   0.0   0.0   0.0   2.0  28617.0   9800.0   0.0   2.0   1.0  \n",
       "\n",
       "[5 rows x 1092 columns]"
      ]
     },
     "execution_count": 46,
     "metadata": {},
     "output_type": "execute_result"
    }
   ],
   "source": [
    "df5.head()"
   ]
  },
  {
   "cell_type": "code",
   "execution_count": 47,
   "metadata": {},
   "outputs": [],
   "source": [
    "split = StratifiedShuffleSplit(n_splits=1, test_size=0.2, random_state=42)\n",
    "for train_index, test_index in split.split(df5, df5.iloc[:,-3:]):\n",
    "    strat_train_set2 = df5.iloc[train_index]\n",
    "    strat_test_set2 = df5.iloc[test_index]"
   ]
  },
  {
   "cell_type": "code",
   "execution_count": 48,
   "metadata": {},
   "outputs": [],
   "source": [
    "strat_train_set2=strat_train_set2.drop(columns=[1089,1090,1091])\n",
    "strat_test_set2=strat_test_set2.drop(columns=[1089,1090,1091])"
   ]
  },
  {
   "cell_type": "code",
   "execution_count": 49,
   "metadata": {},
   "outputs": [],
   "source": [
    "X_train_reduced,y_train_reduced=strat_train_set2.iloc[:,:-1].values,strat_train_set2.iloc[:,-1].values\n",
    "X_test_reduced,y_test_reduced=strat_test_set2.iloc[:,:-1].values,strat_test_set2.iloc[:,-1].values"
   ]
  },
  {
   "cell_type": "code",
   "execution_count": 50,
   "metadata": {},
   "outputs": [],
   "source": [
    "scaler2=StandardScaler()\n",
    "num_attribs=[1085,1086,1087]\n",
    "ct=ColumnTransformer([\n",
    "        (\"num\", StandardScaler(), num_attribs),\n",
    "    ],remainder='passthrough')\n",
    "X_train_reduced=ct.fit_transform(X_train_reduced)"
   ]
  },
  {
   "cell_type": "code",
   "execution_count": 51,
   "metadata": {},
   "outputs": [],
   "source": [
    "X_test_reduced=ct.transform(X_test_reduced)"
   ]
  },
  {
   "cell_type": "code",
   "execution_count": 52,
   "metadata": {},
   "outputs": [
    {
     "name": "stdout",
     "output_type": "stream",
     "text": [
      "Wall time: 9.57 s\n"
     ]
    },
    {
     "data": {
      "text/plain": [
       "XGBRegressor(base_score=0.5, booster='gbtree', colsample_bylevel=1,\n",
       "             colsample_bynode=1, colsample_bytree=1, enable_categorical=False,\n",
       "             gamma=0, gpu_id=0, importance_type=None,\n",
       "             interaction_constraints='', learning_rate=0.300000012,\n",
       "             max_delta_step=0, max_depth=6, min_child_weight=1, missing=nan,\n",
       "             monotone_constraints='()', n_estimators=100, n_jobs=-1,\n",
       "             num_parallel_tree=1, predictor='auto', random_state=0, reg_alpha=0,\n",
       "             reg_lambda=1, scale_pos_weight=1, subsample=1,\n",
       "             tree_method='gpu_hist', validate_parameters=1, verbosity=None)"
      ]
     },
     "execution_count": 52,
     "metadata": {},
     "output_type": "execute_result"
    }
   ],
   "source": [
    "%%time\n",
    "bst_reduced=xgb.XGBRegressor(objective ='reg:squarederror',n_jobs=-1,tree_method='gpu_hist')\n",
    "bst_reduced.fit(X_train_reduced,y_train_reduced)"
   ]
  },
  {
   "cell_type": "code",
   "execution_count": 53,
   "metadata": {},
   "outputs": [
    {
     "data": {
      "text/plain": [
       "0.9277945286126583"
      ]
     },
     "execution_count": 53,
     "metadata": {},
     "output_type": "execute_result"
    }
   ],
   "source": [
    "bst_reduced.score(X_train_reduced,y_train_reduced)"
   ]
  },
  {
   "cell_type": "code",
   "execution_count": 54,
   "metadata": {},
   "outputs": [
    {
     "data": {
      "text/plain": [
       "0.919907306658749"
      ]
     },
     "execution_count": 54,
     "metadata": {},
     "output_type": "execute_result"
    }
   ],
   "source": [
    "bst_reduced.score(X_test_reduced,y_test_reduced)"
   ]
  },
  {
   "cell_type": "code",
   "execution_count": 55,
   "metadata": {},
   "outputs": [
    {
     "data": {
      "text/plain": [
       "GridSearchCV(cv=3,\n",
       "             estimator=XGBRegressor(base_score=None, booster=None,\n",
       "                                    colsample_bylevel=None,\n",
       "                                    colsample_bynode=None,\n",
       "                                    colsample_bytree=None,\n",
       "                                    enable_categorical=False, gamma=None,\n",
       "                                    gpu_id=None, importance_type=None,\n",
       "                                    interaction_constraints=None,\n",
       "                                    learning_rate=None, max_delta_step=None,\n",
       "                                    max_depth=None, min_child_weight=None,\n",
       "                                    missing=nan, monotone_constraints=None,\n",
       "                                    n_estimators=100, n_jobs=-1,\n",
       "                                    num_parallel_tree=None, predictor=None,\n",
       "                                    random_state=None, reg_alpha=None,\n",
       "                                    reg_lambda=None, scale_pos_weight=None,\n",
       "                                    subsample=None, tree_method='gpu_hist',\n",
       "                                    validate_parameters=None, verbosity=None),\n",
       "             n_jobs=5,\n",
       "             param_grid={'n_estimators': [400, 500, 600, 700, 800, 900, 1000]},\n",
       "             return_train_score=True, scoring='r2')"
      ]
     },
     "execution_count": 55,
     "metadata": {},
     "output_type": "execute_result"
    }
   ],
   "source": [
    "param_grid = {'n_estimators': [400,500,600,700,800,900,1000]}\n",
    "\n",
    "\n",
    "bst_reduced1=xgb.XGBRegressor(objective ='reg:squarederror',n_jobs=-1,tree_method='gpu_hist')\n",
    "\n",
    "grid_search_reduced1 = GridSearchCV(bst_reduced1, param_grid, cv=3,\n",
    "                           scoring='r2', return_train_score=True,n_jobs=5)\n",
    "                           \n",
    "grid_search_reduced1.fit(X_train_reduced, y_train_reduced)"
   ]
  },
  {
   "cell_type": "code",
   "execution_count": 56,
   "metadata": {},
   "outputs": [
    {
     "data": {
      "text/plain": [
       "XGBRegressor(base_score=0.5, booster='gbtree', colsample_bylevel=1,\n",
       "             colsample_bynode=1, colsample_bytree=1, enable_categorical=False,\n",
       "             gamma=0, gpu_id=0, importance_type=None,\n",
       "             interaction_constraints='', learning_rate=0.300000012,\n",
       "             max_delta_step=0, max_depth=6, min_child_weight=1, missing=nan,\n",
       "             monotone_constraints='()', n_estimators=1000, n_jobs=-1,\n",
       "             num_parallel_tree=1, predictor='auto', random_state=0, reg_alpha=0,\n",
       "             reg_lambda=1, scale_pos_weight=1, subsample=1,\n",
       "             tree_method='gpu_hist', validate_parameters=1, verbosity=None)"
      ]
     },
     "execution_count": 56,
     "metadata": {},
     "output_type": "execute_result"
    }
   ],
   "source": [
    "grid_search_reduced1.best_estimator_"
   ]
  },
  {
   "cell_type": "code",
   "execution_count": 57,
   "metadata": {},
   "outputs": [
    {
     "data": {
      "text/plain": [
       "0.97261473283562"
      ]
     },
     "execution_count": 57,
     "metadata": {},
     "output_type": "execute_result"
    }
   ],
   "source": [
    "grid_search_reduced1.score(X_train_reduced,y_train_reduced)"
   ]
  },
  {
   "cell_type": "code",
   "execution_count": 58,
   "metadata": {},
   "outputs": [
    {
     "data": {
      "text/plain": [
       "0.9566506065053955"
      ]
     },
     "execution_count": 58,
     "metadata": {},
     "output_type": "execute_result"
    }
   ],
   "source": [
    "grid_search_reduced1.score(X_test_reduced,y_test_reduced)"
   ]
  },
  {
   "cell_type": "code",
   "execution_count": 59,
   "metadata": {},
   "outputs": [
    {
     "name": "stdout",
     "output_type": "stream",
     "text": [
      "Wall time: 22min 18s\n"
     ]
    },
    {
     "data": {
      "text/plain": [
       "GridSearchCV(cv=3,\n",
       "             estimator=XGBRegressor(base_score=None, booster=None,\n",
       "                                    colsample_bylevel=None,\n",
       "                                    colsample_bynode=None,\n",
       "                                    colsample_bytree=None,\n",
       "                                    enable_categorical=False, gamma=None,\n",
       "                                    gpu_id=None, importance_type=None,\n",
       "                                    interaction_constraints=None,\n",
       "                                    learning_rate=None, max_delta_step=None,\n",
       "                                    max_depth=None, min_child_weight=None,\n",
       "                                    missing=nan, monotone_constraints=None,\n",
       "                                    n_estimators=1000, n_jobs=-1,\n",
       "                                    num_parallel_tree=None, predictor=None,\n",
       "                                    random_state=None, reg_alpha=None,\n",
       "                                    reg_lambda=None, scale_pos_weight=None,\n",
       "                                    subsample=None, tree_method='gpu_hist',\n",
       "                                    validate_parameters=None, verbosity=None),\n",
       "             n_jobs=3, param_grid={'max_depth': [4, 5, 6, 7, 8, 9, 10]},\n",
       "             return_train_score=True, scoring='r2')"
      ]
     },
     "execution_count": 59,
     "metadata": {},
     "output_type": "execute_result"
    }
   ],
   "source": [
    "%%time\n",
    "param_grid = {'max_depth': [4,5,6,7,8,9,10]}\n",
    "\n",
    "\n",
    "bst_reduced2=xgb.XGBRegressor(objective ='reg:squarederror',n_jobs=-1,tree_method='gpu_hist',n_estimators=1000)\n",
    "\n",
    "grid_search_reduced2 = GridSearchCV(bst_reduced2, param_grid, cv=3,\n",
    "                           scoring='r2', return_train_score=True,n_jobs=3)\n",
    "                           \n",
    "grid_search_reduced2.fit(X_train_reduced, y_train_reduced)"
   ]
  },
  {
   "cell_type": "code",
   "execution_count": 60,
   "metadata": {},
   "outputs": [
    {
     "data": {
      "text/plain": [
       "XGBRegressor(base_score=0.5, booster='gbtree', colsample_bylevel=1,\n",
       "             colsample_bynode=1, colsample_bytree=1, enable_categorical=False,\n",
       "             gamma=0, gpu_id=0, importance_type=None,\n",
       "             interaction_constraints='', learning_rate=0.300000012,\n",
       "             max_delta_step=0, max_depth=6, min_child_weight=1, missing=nan,\n",
       "             monotone_constraints='()', n_estimators=1000, n_jobs=-1,\n",
       "             num_parallel_tree=1, predictor='auto', random_state=0, reg_alpha=0,\n",
       "             reg_lambda=1, scale_pos_weight=1, subsample=1,\n",
       "             tree_method='gpu_hist', validate_parameters=1, verbosity=None)"
      ]
     },
     "execution_count": 60,
     "metadata": {},
     "output_type": "execute_result"
    }
   ],
   "source": [
    "grid_search_reduced2.best_estimator_"
   ]
  },
  {
   "cell_type": "code",
   "execution_count": 61,
   "metadata": {},
   "outputs": [
    {
     "data": {
      "text/plain": [
       "0.97261473283562"
      ]
     },
     "execution_count": 61,
     "metadata": {},
     "output_type": "execute_result"
    }
   ],
   "source": [
    "grid_search_reduced2.score(X_train_reduced,y_train_reduced)"
   ]
  },
  {
   "cell_type": "code",
   "execution_count": 62,
   "metadata": {},
   "outputs": [
    {
     "data": {
      "text/plain": [
       "0.9566506065053955"
      ]
     },
     "execution_count": 62,
     "metadata": {},
     "output_type": "execute_result"
    }
   ],
   "source": [
    "grid_search_reduced2.score(X_test_reduced,y_test_reduced)"
   ]
  },
  {
   "cell_type": "code",
   "execution_count": 63,
   "metadata": {},
   "outputs": [
    {
     "name": "stdout",
     "output_type": "stream",
     "text": [
      "Wall time: 12min 24s\n"
     ]
    },
    {
     "data": {
      "text/plain": [
       "GridSearchCV(cv=3,\n",
       "             estimator=XGBRegressor(base_score=None, booster=None,\n",
       "                                    colsample_bylevel=None,\n",
       "                                    colsample_bynode=None,\n",
       "                                    colsample_bytree=None,\n",
       "                                    enable_categorical=False, gamma=None,\n",
       "                                    gpu_id=None, importance_type=None,\n",
       "                                    interaction_constraints=None,\n",
       "                                    learning_rate=None, max_delta_step=None,\n",
       "                                    max_depth=6, min_child_weight=None,\n",
       "                                    missing=nan, monotone_constraints=None,\n",
       "                                    n_estimators=1000, n_jobs=-1,\n",
       "                                    num_parallel_tree=None, predictor=None,\n",
       "                                    random_state=None, reg_alpha=None,\n",
       "                                    reg_lambda=None, scale_pos_weight=None,\n",
       "                                    subsample=None, tree_method='gpu_hist',\n",
       "                                    validate_parameters=None, verbosity=None),\n",
       "             n_jobs=4,\n",
       "             param_grid={'learning_rate': [0.01, 0.03, 0.05, 0.1, 0.2, 0.3]},\n",
       "             return_train_score=True, scoring='r2')"
      ]
     },
     "execution_count": 63,
     "metadata": {},
     "output_type": "execute_result"
    }
   ],
   "source": [
    "%%time\n",
    "param_grid = {'learning_rate': [0.01,0.03,0.05,0.1,0.2,0.3]}\n",
    "\n",
    "\n",
    "bst_reduced3=xgb.XGBRegressor(objective ='reg:squarederror',n_jobs=-1,tree_method='gpu_hist',n_estimators=1000,max_depth=6)\n",
    "\n",
    "grid_search_reduced3 = GridSearchCV(bst_reduced3, param_grid, cv=3,\n",
    "                           scoring='r2', return_train_score=True,n_jobs=4)\n",
    "                           \n",
    "grid_search_reduced3.fit(X_train_reduced, y_train_reduced)"
   ]
  },
  {
   "cell_type": "code",
   "execution_count": 64,
   "metadata": {},
   "outputs": [
    {
     "data": {
      "text/plain": [
       "XGBRegressor(base_score=0.5, booster='gbtree', colsample_bylevel=1,\n",
       "             colsample_bynode=1, colsample_bytree=1, enable_categorical=False,\n",
       "             gamma=0, gpu_id=0, importance_type=None,\n",
       "             interaction_constraints='', learning_rate=0.3, max_delta_step=0,\n",
       "             max_depth=6, min_child_weight=1, missing=nan,\n",
       "             monotone_constraints='()', n_estimators=1000, n_jobs=-1,\n",
       "             num_parallel_tree=1, predictor='auto', random_state=0, reg_alpha=0,\n",
       "             reg_lambda=1, scale_pos_weight=1, subsample=1,\n",
       "             tree_method='gpu_hist', validate_parameters=1, verbosity=None)"
      ]
     },
     "execution_count": 64,
     "metadata": {},
     "output_type": "execute_result"
    }
   ],
   "source": [
    "grid_search_reduced3.best_estimator_"
   ]
  },
  {
   "cell_type": "code",
   "execution_count": 65,
   "metadata": {},
   "outputs": [
    {
     "data": {
      "text/plain": [
       "0.97261473283562"
      ]
     },
     "execution_count": 65,
     "metadata": {},
     "output_type": "execute_result"
    }
   ],
   "source": [
    "grid_search_reduced3.score(X_train_reduced,y_train_reduced)"
   ]
  },
  {
   "cell_type": "code",
   "execution_count": 66,
   "metadata": {},
   "outputs": [
    {
     "data": {
      "text/plain": [
       "0.9566506065053955"
      ]
     },
     "execution_count": 66,
     "metadata": {},
     "output_type": "execute_result"
    }
   ],
   "source": [
    "grid_search_reduced3.score(X_test_reduced,y_test_reduced)"
   ]
  },
  {
   "cell_type": "markdown",
   "metadata": {},
   "source": [
    "### Based on the results above, 'grid_search_reduced3' performs the best: The score has dropped a little from the simply processed dataset, but it takes just about half the time of the first one."
   ]
  },
  {
   "cell_type": "code",
   "execution_count": 67,
   "metadata": {},
   "outputs": [
    {
     "name": "stdout",
     "output_type": "stream",
     "text": [
      "XGBRegressor(base_score=0.5, booster='gbtree', colsample_bylevel=1,\n",
      "             colsample_bynode=1, colsample_bytree=1, enable_categorical=False,\n",
      "             gamma=0, gpu_id=0, importance_type=None,\n",
      "             interaction_constraints='', learning_rate=0.3, max_delta_step=0,\n",
      "             max_depth=6, min_child_weight=1, missing=nan,\n",
      "             monotone_constraints='()', n_estimators=1000, n_jobs=-1,\n",
      "             num_parallel_tree=1, predictor='auto', random_state=0, reg_alpha=0,\n",
      "             reg_lambda=1, scale_pos_weight=1, subsample=1,\n",
      "             tree_method='gpu_hist', validate_parameters=1, verbosity=None)\n",
      "0.97261473283562\n",
      "0.9566506065053955\n"
     ]
    }
   ],
   "source": [
    "print(grid_search_reduced3.best_estimator_)\n",
    "print(grid_search_reduced3.score(X_train_reduced,y_train_reduced))\n",
    "print(grid_search_reduced3.score(X_test_reduced,y_test_reduced))"
   ]
  },
  {
   "cell_type": "code",
   "execution_count": 68,
   "metadata": {},
   "outputs": [
    {
     "data": {
      "text/plain": [
       "1591.5772250824064"
      ]
     },
     "execution_count": 68,
     "metadata": {},
     "output_type": "execute_result"
    }
   ],
   "source": [
    "mean_squared_error(grid_search_reduced3.predict(X_train_reduced),y_train_reduced,squared=False)"
   ]
  },
  {
   "cell_type": "code",
   "execution_count": 69,
   "metadata": {},
   "outputs": [
    {
     "data": {
      "text/plain": [
       "1992.6927157169932"
      ]
     },
     "execution_count": 69,
     "metadata": {},
     "output_type": "execute_result"
    }
   ],
   "source": [
    "mean_squared_error(grid_search_reduced3.predict(X_test_reduced),y_test_reduced,squared=False)"
   ]
  },
  {
   "cell_type": "markdown",
   "metadata": {},
   "source": [
    "### PCA"
   ]
  },
  {
   "cell_type": "markdown",
   "metadata": {},
   "source": [
    "### When it comes to dimension reduction, PCA comes to mind. Although we think that it makes more sense for continuous data, it is still worth a try considering that it could reduce the dimension even more and that could greatly improve the speed of our model."
   ]
  },
  {
   "cell_type": "code",
   "execution_count": 70,
   "metadata": {},
   "outputs": [],
   "source": [
    "from sklearn.decomposition import PCA\n",
    "pca = PCA(n_components=0.95)\n",
    "X_train_pca = pca.fit_transform(X_train)"
   ]
  },
  {
   "cell_type": "code",
   "execution_count": 74,
   "metadata": {},
   "outputs": [
    {
     "data": {
      "text/plain": [
       "247"
      ]
     },
     "execution_count": 74,
     "metadata": {},
     "output_type": "execute_result"
    }
   ],
   "source": [
    "pca.n_components_"
   ]
  },
  {
   "cell_type": "code",
   "execution_count": 71,
   "metadata": {},
   "outputs": [],
   "source": [
    "X_test_pca=pca.transform(X_test)"
   ]
  },
  {
   "cell_type": "code",
   "execution_count": 72,
   "metadata": {},
   "outputs": [
    {
     "name": "stdout",
     "output_type": "stream",
     "text": [
      "Wall time: 6.31 s\n"
     ]
    },
    {
     "data": {
      "text/plain": [
       "XGBRegressor(base_score=0.5, booster='gbtree', colsample_bylevel=1,\n",
       "             colsample_bynode=1, colsample_bytree=1, enable_categorical=False,\n",
       "             gamma=0, gpu_id=0, importance_type=None,\n",
       "             interaction_constraints='', learning_rate=0.300000012,\n",
       "             max_delta_step=0, max_depth=6, min_child_weight=1, missing=nan,\n",
       "             monotone_constraints='()', n_estimators=100, n_jobs=-1,\n",
       "             num_parallel_tree=1, predictor='auto', random_state=0, reg_alpha=0,\n",
       "             reg_lambda=1, scale_pos_weight=1, subsample=1,\n",
       "             tree_method='gpu_hist', validate_parameters=1, verbosity=None)"
      ]
     },
     "execution_count": 72,
     "metadata": {},
     "output_type": "execute_result"
    }
   ],
   "source": [
    "%%time\n",
    "import xgboost as xgb\n",
    "bst_pca=xgb.XGBRegressor(objective ='reg:squarederror',n_jobs=-1,tree_method='gpu_hist')\n",
    "bst_pca.fit(X_train_pca,y_train)"
   ]
  },
  {
   "cell_type": "code",
   "execution_count": 75,
   "metadata": {},
   "outputs": [
    {
     "data": {
      "text/plain": [
       "0.9304281383756445"
      ]
     },
     "execution_count": 75,
     "metadata": {},
     "output_type": "execute_result"
    }
   ],
   "source": [
    "bst_pca.score(X_train_pca,y_train)"
   ]
  },
  {
   "cell_type": "code",
   "execution_count": 76,
   "metadata": {},
   "outputs": [
    {
     "data": {
      "text/plain": [
       "0.907120181646514"
      ]
     },
     "execution_count": 76,
     "metadata": {},
     "output_type": "execute_result"
    }
   ],
   "source": [
    "bst_pca.score(X_test_pca,y_test)"
   ]
  },
  {
   "cell_type": "code",
   "execution_count": 77,
   "metadata": {},
   "outputs": [
    {
     "name": "stdout",
     "output_type": "stream",
     "text": [
      "Wall time: 5min 51s\n"
     ]
    },
    {
     "data": {
      "text/plain": [
       "GridSearchCV(cv=3,\n",
       "             estimator=XGBRegressor(base_score=None, booster=None,\n",
       "                                    colsample_bylevel=None,\n",
       "                                    colsample_bynode=None,\n",
       "                                    colsample_bytree=None,\n",
       "                                    enable_categorical=False, gamma=None,\n",
       "                                    gpu_id=None, importance_type=None,\n",
       "                                    interaction_constraints=None,\n",
       "                                    learning_rate=None, max_delta_step=None,\n",
       "                                    max_depth=None, min_child_weight=None,\n",
       "                                    missing=nan, monotone_constraints=None,\n",
       "                                    n_estimators=100, n_jobs=-1,\n",
       "                                    num_parallel_tree=None, predictor=None,\n",
       "                                    random_state=None, reg_alpha=None,\n",
       "                                    reg_lambda=None, scale_pos_weight=None,\n",
       "                                    subsample=None, tree_method='gpu_hist',\n",
       "                                    validate_parameters=None, verbosity=None),\n",
       "             n_jobs=5,\n",
       "             param_grid=[{'n_estimators': [400, 500, 600, 700, 800, 900,\n",
       "                                           1000]}],\n",
       "             return_train_score=True, scoring='r2')"
      ]
     },
     "execution_count": 77,
     "metadata": {},
     "output_type": "execute_result"
    }
   ],
   "source": [
    "%%time\n",
    "from sklearn.model_selection import GridSearchCV\n",
    "\n",
    "param_grid = [\n",
    "    {'n_estimators': [400,500,600,700,800,900,1000]},\n",
    "  ]\n",
    "\n",
    "bst_pca1=xgb.XGBRegressor(objective ='reg:squarederror',n_jobs=-1,tree_method='gpu_hist')\n",
    "\n",
    "grid_search_pca1 = GridSearchCV(bst_pca1, param_grid, cv=3,\n",
    "                           scoring='r2', return_train_score=True,n_jobs=5)\n",
    "                           \n",
    "grid_search_pca1.fit(X_train_pca, y_train)"
   ]
  },
  {
   "cell_type": "code",
   "execution_count": 78,
   "metadata": {},
   "outputs": [
    {
     "data": {
      "text/plain": [
       "XGBRegressor(base_score=0.5, booster='gbtree', colsample_bylevel=1,\n",
       "             colsample_bynode=1, colsample_bytree=1, enable_categorical=False,\n",
       "             gamma=0, gpu_id=0, importance_type=None,\n",
       "             interaction_constraints='', learning_rate=0.300000012,\n",
       "             max_delta_step=0, max_depth=6, min_child_weight=1, missing=nan,\n",
       "             monotone_constraints='()', n_estimators=1000, n_jobs=-1,\n",
       "             num_parallel_tree=1, predictor='auto', random_state=0, reg_alpha=0,\n",
       "             reg_lambda=1, scale_pos_weight=1, subsample=1,\n",
       "             tree_method='gpu_hist', validate_parameters=1, verbosity=None)"
      ]
     },
     "execution_count": 78,
     "metadata": {},
     "output_type": "execute_result"
    }
   ],
   "source": [
    "grid_search_pca1.best_estimator_"
   ]
  },
  {
   "cell_type": "code",
   "execution_count": 79,
   "metadata": {},
   "outputs": [
    {
     "data": {
      "text/plain": [
       "0.9805319436579198"
      ]
     },
     "execution_count": 79,
     "metadata": {},
     "output_type": "execute_result"
    }
   ],
   "source": [
    "grid_search_pca1.score(X_train_pca,y_train)"
   ]
  },
  {
   "cell_type": "code",
   "execution_count": 80,
   "metadata": {},
   "outputs": [
    {
     "data": {
      "text/plain": [
       "0.9311326312042236"
      ]
     },
     "execution_count": 80,
     "metadata": {},
     "output_type": "execute_result"
    }
   ],
   "source": [
    "grid_search_pca1.score(X_test_pca,y_test)"
   ]
  },
  {
   "cell_type": "code",
   "execution_count": 81,
   "metadata": {},
   "outputs": [
    {
     "name": "stdout",
     "output_type": "stream",
     "text": [
      "Wall time: 20min 5s\n"
     ]
    },
    {
     "data": {
      "text/plain": [
       "GridSearchCV(cv=3,\n",
       "             estimator=XGBRegressor(base_score=None, booster=None,\n",
       "                                    colsample_bylevel=None,\n",
       "                                    colsample_bynode=None,\n",
       "                                    colsample_bytree=None,\n",
       "                                    enable_categorical=False, gamma=None,\n",
       "                                    gpu_id=None, importance_type=None,\n",
       "                                    interaction_constraints=None,\n",
       "                                    learning_rate=None, max_delta_step=None,\n",
       "                                    max_depth=None, min_child_weight=None,\n",
       "                                    missing=nan, monotone_constraints=None,\n",
       "                                    n_estimators=1000, n_jobs=-1,\n",
       "                                    num_parallel_tree=None, predictor=None,\n",
       "                                    random_state=None, reg_alpha=None,\n",
       "                                    reg_lambda=None, scale_pos_weight=None,\n",
       "                                    subsample=None, tree_method='gpu_hist',\n",
       "                                    validate_parameters=None, verbosity=None),\n",
       "             n_jobs=4, param_grid=[{'max_depth': [4, 5, 6, 7, 8, 9, 10]}],\n",
       "             return_train_score=True, scoring='r2')"
      ]
     },
     "execution_count": 81,
     "metadata": {},
     "output_type": "execute_result"
    }
   ],
   "source": [
    "%%time\n",
    "param_grid = [\n",
    "    {'max_depth': [4,5,6,7,8,9,10]},\n",
    "  ]\n",
    "\n",
    "bst_pca2=xgb.XGBRegressor(objective ='reg:squarederror',n_jobs=-1,tree_method='gpu_hist',n_estimators=1000)\n",
    "\n",
    "grid_search_pca2 = GridSearchCV(bst_pca2, param_grid, cv=3,\n",
    "                           scoring='r2', return_train_score=True,n_jobs=4)\n",
    "                           \n",
    "grid_search_pca2.fit(X_train_pca, y_train)"
   ]
  },
  {
   "cell_type": "code",
   "execution_count": 86,
   "metadata": {},
   "outputs": [
    {
     "data": {
      "text/plain": [
       "XGBRegressor(base_score=0.5, booster='gbtree', colsample_bylevel=1,\n",
       "             colsample_bynode=1, colsample_bytree=1, enable_categorical=False,\n",
       "             gamma=0, gpu_id=0, importance_type=None,\n",
       "             interaction_constraints='', learning_rate=0.300000012,\n",
       "             max_delta_step=0, max_depth=5, min_child_weight=1, missing=nan,\n",
       "             monotone_constraints='()', n_estimators=1000, n_jobs=-1,\n",
       "             num_parallel_tree=1, predictor='auto', random_state=0, reg_alpha=0,\n",
       "             reg_lambda=1, scale_pos_weight=1, subsample=1,\n",
       "             tree_method='gpu_hist', validate_parameters=1, verbosity=None)"
      ]
     },
     "execution_count": 86,
     "metadata": {},
     "output_type": "execute_result"
    }
   ],
   "source": [
    "grid_search_pca2.best_estimator_"
   ]
  },
  {
   "cell_type": "code",
   "execution_count": 87,
   "metadata": {},
   "outputs": [
    {
     "data": {
      "text/plain": [
       "0.9691027384744718"
      ]
     },
     "execution_count": 87,
     "metadata": {},
     "output_type": "execute_result"
    }
   ],
   "source": [
    "grid_search_pca2.score(X_train_pca,y_train)"
   ]
  },
  {
   "cell_type": "code",
   "execution_count": 88,
   "metadata": {},
   "outputs": [
    {
     "data": {
      "text/plain": [
       "0.9312775227201152"
      ]
     },
     "execution_count": 88,
     "metadata": {},
     "output_type": "execute_result"
    }
   ],
   "source": [
    "grid_search_pca2.score(X_test_pca,y_test)"
   ]
  },
  {
   "cell_type": "code",
   "execution_count": 89,
   "metadata": {},
   "outputs": [
    {
     "name": "stdout",
     "output_type": "stream",
     "text": [
      "Wall time: 4min 5s\n"
     ]
    },
    {
     "data": {
      "text/plain": [
       "GridSearchCV(cv=3,\n",
       "             estimator=XGBRegressor(base_score=None, booster=None,\n",
       "                                    colsample_bylevel=None,\n",
       "                                    colsample_bynode=None,\n",
       "                                    colsample_bytree=None,\n",
       "                                    enable_categorical=False, gamma=None,\n",
       "                                    gpu_id=None, importance_type=None,\n",
       "                                    interaction_constraints=None,\n",
       "                                    learning_rate=None, max_delta_step=None,\n",
       "                                    max_depth=5, min_child_weight=None,\n",
       "                                    missing=nan, monotone_constraints=None,\n",
       "                                    n_estimators=1000, n_jobs=-1,\n",
       "                                    num_parallel_tree=None, predictor=None,\n",
       "                                    random_state=None, reg_alpha=None,\n",
       "                                    reg_lambda=None, scale_pos_weight=None,\n",
       "                                    subsample=None, tree_method='gpu_hist',\n",
       "                                    validate_parameters=None, verbosity=None),\n",
       "             param_grid=[{'learning_rate': [0.01, 0.05, 0.1, 0.2, 0.3]}],\n",
       "             return_train_score=True, scoring='r2')"
      ]
     },
     "execution_count": 89,
     "metadata": {},
     "output_type": "execute_result"
    }
   ],
   "source": [
    "%%time\n",
    "param_grid = [\n",
    "    {'learning_rate': [0.01,0.05,0.1,0.2,0.3]},\n",
    "  ]\n",
    "\n",
    "bst_pca3=xgb.XGBRegressor(objective ='reg:squarederror',n_jobs=-1,tree_method='gpu_hist',n_estimators=1000,max_depth=5)\n",
    "\n",
    "grid_search_pca3 = GridSearchCV(bst_pca3, param_grid, cv=3,\n",
    "                           scoring='r2', return_train_score=True)\n",
    "                           \n",
    "grid_search_pca3.fit(X_train_pca, y_train)"
   ]
  },
  {
   "cell_type": "code",
   "execution_count": 90,
   "metadata": {},
   "outputs": [
    {
     "data": {
      "text/plain": [
       "XGBRegressor(base_score=0.5, booster='gbtree', colsample_bylevel=1,\n",
       "             colsample_bynode=1, colsample_bytree=1, enable_categorical=False,\n",
       "             gamma=0, gpu_id=0, importance_type=None,\n",
       "             interaction_constraints='', learning_rate=0.2, max_delta_step=0,\n",
       "             max_depth=5, min_child_weight=1, missing=nan,\n",
       "             monotone_constraints='()', n_estimators=1000, n_jobs=-1,\n",
       "             num_parallel_tree=1, predictor='auto', random_state=0, reg_alpha=0,\n",
       "             reg_lambda=1, scale_pos_weight=1, subsample=1,\n",
       "             tree_method='gpu_hist', validate_parameters=1, verbosity=None)"
      ]
     },
     "execution_count": 90,
     "metadata": {},
     "output_type": "execute_result"
    }
   ],
   "source": [
    "grid_search_pca3.best_estimator_"
   ]
  },
  {
   "cell_type": "code",
   "execution_count": 91,
   "metadata": {},
   "outputs": [
    {
     "data": {
      "text/plain": [
       "0.9648621644314875"
      ]
     },
     "execution_count": 91,
     "metadata": {},
     "output_type": "execute_result"
    }
   ],
   "source": [
    "grid_search_pca3.score(X_train_pca,y_train)"
   ]
  },
  {
   "cell_type": "code",
   "execution_count": 92,
   "metadata": {},
   "outputs": [
    {
     "data": {
      "text/plain": [
       "0.9318974031407151"
      ]
     },
     "execution_count": 92,
     "metadata": {},
     "output_type": "execute_result"
    }
   ],
   "source": [
    "grid_search_pca3.score(X_test_pca,y_test)"
   ]
  },
  {
   "cell_type": "markdown",
   "metadata": {},
   "source": [
    "#### 'grid_search_pca3' gives the best results. PCA is faster than setting lower frequency categories as 'others', but it also loses some information and performs worse on test set."
   ]
  },
  {
   "cell_type": "code",
   "execution_count": 94,
   "metadata": {},
   "outputs": [
    {
     "name": "stdout",
     "output_type": "stream",
     "text": [
      "XGBRegressor(base_score=0.5, booster='gbtree', colsample_bylevel=1,\n",
      "             colsample_bynode=1, colsample_bytree=1, enable_categorical=False,\n",
      "             gamma=0, gpu_id=0, importance_type=None,\n",
      "             interaction_constraints='', learning_rate=0.2, max_delta_step=0,\n",
      "             max_depth=5, min_child_weight=1, missing=nan,\n",
      "             monotone_constraints='()', n_estimators=1000, n_jobs=-1,\n",
      "             num_parallel_tree=1, predictor='auto', random_state=0, reg_alpha=0,\n",
      "             reg_lambda=1, scale_pos_weight=1, subsample=1,\n",
      "             tree_method='gpu_hist', validate_parameters=1, verbosity=None)\n",
      "0.9648621644314875\n",
      "0.9318974031407151\n"
     ]
    }
   ],
   "source": [
    "print(grid_search_pca3.best_estimator_)\n",
    "print(grid_search_pca3.score(X_train_pca,y_train))\n",
    "print(grid_search_pca3.score(X_test_pca,y_test))"
   ]
  },
  {
   "cell_type": "code",
   "execution_count": 95,
   "metadata": {},
   "outputs": [
    {
     "data": {
      "text/plain": [
       "1802.8381013711783"
      ]
     },
     "execution_count": 95,
     "metadata": {},
     "output_type": "execute_result"
    }
   ],
   "source": [
    "from sklearn.metrics import mean_squared_error\n",
    "mean_squared_error(grid_search_pca3.predict(X_train_pca),y_train,squared=False)"
   ]
  },
  {
   "cell_type": "code",
   "execution_count": 96,
   "metadata": {},
   "outputs": [
    {
     "data": {
      "text/plain": [
       "2497.644690955017"
      ]
     },
     "execution_count": 96,
     "metadata": {},
     "output_type": "execute_result"
    }
   ],
   "source": [
    "mean_squared_error(grid_search_pca3.predict(X_test_pca),y_test,squared=False)"
   ]
  },
  {
   "cell_type": "markdown",
   "metadata": {},
   "source": [
    "## LGBMRegression"
   ]
  },
  {
   "cell_type": "code",
   "execution_count": 97,
   "metadata": {},
   "outputs": [],
   "source": [
    "df6=df2.copy()"
   ]
  },
  {
   "cell_type": "code",
   "execution_count": 98,
   "metadata": {},
   "outputs": [
    {
     "data": {
      "text/html": [
       "<div>\n",
       "<style scoped>\n",
       "    .dataframe tbody tr th:only-of-type {\n",
       "        vertical-align: middle;\n",
       "    }\n",
       "\n",
       "    .dataframe tbody tr th {\n",
       "        vertical-align: top;\n",
       "    }\n",
       "\n",
       "    .dataframe thead th {\n",
       "        text-align: right;\n",
       "    }\n",
       "</style>\n",
       "<table border=\"1\" class=\"dataframe\">\n",
       "  <thead>\n",
       "    <tr style=\"text-align: right;\">\n",
       "      <th></th>\n",
       "      <th>make</th>\n",
       "      <th>model</th>\n",
       "      <th>trim</th>\n",
       "      <th>body</th>\n",
       "      <th>transmission</th>\n",
       "      <th>state</th>\n",
       "      <th>color</th>\n",
       "      <th>interior</th>\n",
       "      <th>age</th>\n",
       "      <th>condition</th>\n",
       "      <th>odometer</th>\n",
       "      <th>sellingprice</th>\n",
       "      <th>age_cat</th>\n",
       "      <th>condition_cat</th>\n",
       "      <th>odometer_cat</th>\n",
       "    </tr>\n",
       "  </thead>\n",
       "  <tbody>\n",
       "    <tr>\n",
       "      <th>196011</th>\n",
       "      <td>nissan</td>\n",
       "      <td>pathfinder</td>\n",
       "      <td>se</td>\n",
       "      <td>suv</td>\n",
       "      <td>automatic</td>\n",
       "      <td>pa</td>\n",
       "      <td>gray</td>\n",
       "      <td>gray</td>\n",
       "      <td>10</td>\n",
       "      <td>2.4</td>\n",
       "      <td>104340.0</td>\n",
       "      <td>5600</td>\n",
       "      <td>7.0</td>\n",
       "      <td>2.0</td>\n",
       "      <td>2.0</td>\n",
       "    </tr>\n",
       "    <tr>\n",
       "      <th>355385</th>\n",
       "      <td>honda</td>\n",
       "      <td>civic</td>\n",
       "      <td>lx</td>\n",
       "      <td>sedan</td>\n",
       "      <td>automatic</td>\n",
       "      <td>tx</td>\n",
       "      <td>red</td>\n",
       "      <td>tan</td>\n",
       "      <td>2</td>\n",
       "      <td>3.7</td>\n",
       "      <td>38425.0</td>\n",
       "      <td>13000</td>\n",
       "      <td>2.0</td>\n",
       "      <td>4.0</td>\n",
       "      <td>1.0</td>\n",
       "    </tr>\n",
       "    <tr>\n",
       "      <th>56523</th>\n",
       "      <td>hyundai</td>\n",
       "      <td>sonata</td>\n",
       "      <td>gls</td>\n",
       "      <td>sedan</td>\n",
       "      <td>automatic</td>\n",
       "      <td>oh</td>\n",
       "      <td>black</td>\n",
       "      <td>gray</td>\n",
       "      <td>3</td>\n",
       "      <td>3.8</td>\n",
       "      <td>36746.0</td>\n",
       "      <td>10800</td>\n",
       "      <td>2.0</td>\n",
       "      <td>4.0</td>\n",
       "      <td>1.0</td>\n",
       "    </tr>\n",
       "    <tr>\n",
       "      <th>522254</th>\n",
       "      <td>ford</td>\n",
       "      <td>f-150</td>\n",
       "      <td>xlt</td>\n",
       "      <td>supercrew</td>\n",
       "      <td>automatic</td>\n",
       "      <td>ms</td>\n",
       "      <td>—</td>\n",
       "      <td>gray</td>\n",
       "      <td>3</td>\n",
       "      <td>4.0</td>\n",
       "      <td>45468.0</td>\n",
       "      <td>25100</td>\n",
       "      <td>2.0</td>\n",
       "      <td>4.0</td>\n",
       "      <td>1.0</td>\n",
       "    </tr>\n",
       "    <tr>\n",
       "      <th>204442</th>\n",
       "      <td>dodge</td>\n",
       "      <td>magnum</td>\n",
       "      <td>se</td>\n",
       "      <td>wagon</td>\n",
       "      <td>automatic</td>\n",
       "      <td>ca</td>\n",
       "      <td>gray</td>\n",
       "      <td>gray</td>\n",
       "      <td>9</td>\n",
       "      <td>2.6</td>\n",
       "      <td>135109.0</td>\n",
       "      <td>2900</td>\n",
       "      <td>6.0</td>\n",
       "      <td>3.0</td>\n",
       "      <td>2.0</td>\n",
       "    </tr>\n",
       "  </tbody>\n",
       "</table>\n",
       "</div>"
      ],
      "text/plain": [
       "           make       model trim       body transmission state  color  \\\n",
       "196011   nissan  pathfinder   se        suv    automatic    pa   gray   \n",
       "355385    honda       civic   lx      sedan    automatic    tx    red   \n",
       "56523   hyundai      sonata  gls      sedan    automatic    oh  black   \n",
       "522254     ford       f-150  xlt  supercrew    automatic    ms      —   \n",
       "204442    dodge      magnum   se      wagon    automatic    ca   gray   \n",
       "\n",
       "       interior  age  condition  odometer  sellingprice  age_cat  \\\n",
       "196011     gray   10        2.4  104340.0          5600      7.0   \n",
       "355385      tan    2        3.7   38425.0         13000      2.0   \n",
       "56523      gray    3        3.8   36746.0         10800      2.0   \n",
       "522254     gray    3        4.0   45468.0         25100      2.0   \n",
       "204442     gray    9        2.6  135109.0          2900      6.0   \n",
       "\n",
       "        condition_cat  odometer_cat  \n",
       "196011            2.0           2.0  \n",
       "355385            4.0           1.0  \n",
       "56523             4.0           1.0  \n",
       "522254            4.0           1.0  \n",
       "204442            3.0           2.0  "
      ]
     },
     "execution_count": 98,
     "metadata": {},
     "output_type": "execute_result"
    }
   ],
   "source": [
    "from sklearn.model_selection import StratifiedShuffleSplit\n",
    "\n",
    "split = StratifiedShuffleSplit(n_splits=1, test_size=0.2, random_state=42)\n",
    "for train_index, test_index in split.split(df6, df6.iloc[:,-3:]):\n",
    "    strat_train_set3 = df6.iloc[train_index]\n",
    "    strat_test_set3 = df6.iloc[test_index]\n",
    "strat_test_set3.head()"
   ]
  },
  {
   "cell_type": "code",
   "execution_count": 99,
   "metadata": {},
   "outputs": [],
   "source": [
    "strat_train_set3=strat_train_set3.drop(columns=['age_cat','condition_cat','odometer_cat'])\n",
    "strat_test_set3=strat_test_set3.drop(columns=['age_cat','condition_cat','odometer_cat'])"
   ]
  },
  {
   "cell_type": "code",
   "execution_count": 203,
   "metadata": {},
   "outputs": [],
   "source": [
    "X_train_lgb,y_train_lgb=strat_train_set3.iloc[:,:-1],strat_train_set3.iloc[:,-1]\n",
    "X_test_lgb,y_test_lgb=strat_test_set3.iloc[:,:-1],strat_test_set3.iloc[:,-1]"
   ]
  },
  {
   "cell_type": "code",
   "execution_count": 204,
   "metadata": {},
   "outputs": [
    {
     "data": {
      "text/html": [
       "<div>\n",
       "<style scoped>\n",
       "    .dataframe tbody tr th:only-of-type {\n",
       "        vertical-align: middle;\n",
       "    }\n",
       "\n",
       "    .dataframe tbody tr th {\n",
       "        vertical-align: top;\n",
       "    }\n",
       "\n",
       "    .dataframe thead th {\n",
       "        text-align: right;\n",
       "    }\n",
       "</style>\n",
       "<table border=\"1\" class=\"dataframe\">\n",
       "  <thead>\n",
       "    <tr style=\"text-align: right;\">\n",
       "      <th></th>\n",
       "      <th>0</th>\n",
       "      <th>1</th>\n",
       "      <th>2</th>\n",
       "      <th>3</th>\n",
       "      <th>4</th>\n",
       "      <th>5</th>\n",
       "      <th>6</th>\n",
       "      <th>7</th>\n",
       "      <th>8</th>\n",
       "      <th>9</th>\n",
       "      <th>10</th>\n",
       "    </tr>\n",
       "  </thead>\n",
       "  <tbody>\n",
       "    <tr>\n",
       "      <th>0</th>\n",
       "      <td>-0.186579</td>\n",
       "      <td>1.138031</td>\n",
       "      <td>-0.234132</td>\n",
       "      <td>cadillac</td>\n",
       "      <td>escalade</td>\n",
       "      <td>luxury</td>\n",
       "      <td>suv</td>\n",
       "      <td>automatic</td>\n",
       "      <td>mn</td>\n",
       "      <td>silver</td>\n",
       "      <td>black</td>\n",
       "    </tr>\n",
       "    <tr>\n",
       "      <th>1</th>\n",
       "      <td>-0.71024</td>\n",
       "      <td>-0.76991</td>\n",
       "      <td>-0.744838</td>\n",
       "      <td>lexus</td>\n",
       "      <td>rx 350</td>\n",
       "      <td>base</td>\n",
       "      <td>suv</td>\n",
       "      <td>automatic</td>\n",
       "      <td>wi</td>\n",
       "      <td>gray</td>\n",
       "      <td>black</td>\n",
       "    </tr>\n",
       "    <tr>\n",
       "      <th>2</th>\n",
       "      <td>-0.71024</td>\n",
       "      <td>-0.239927</td>\n",
       "      <td>-0.181472</td>\n",
       "      <td>chevrolet</td>\n",
       "      <td>impala</td>\n",
       "      <td>ls fleet</td>\n",
       "      <td>sedan</td>\n",
       "      <td>automatic</td>\n",
       "      <td>nv</td>\n",
       "      <td>silver</td>\n",
       "      <td>gray</td>\n",
       "    </tr>\n",
       "    <tr>\n",
       "      <th>3</th>\n",
       "      <td>-0.71024</td>\n",
       "      <td>0.502051</td>\n",
       "      <td>-0.448196</td>\n",
       "      <td>chrysler</td>\n",
       "      <td>town and country</td>\n",
       "      <td>touring</td>\n",
       "      <td>minivan</td>\n",
       "      <td>automatic</td>\n",
       "      <td>tx</td>\n",
       "      <td>blue</td>\n",
       "      <td>black</td>\n",
       "    </tr>\n",
       "    <tr>\n",
       "      <th>4</th>\n",
       "      <td>-0.97207</td>\n",
       "      <td>0.078064</td>\n",
       "      <td>-0.538509</td>\n",
       "      <td>kia</td>\n",
       "      <td>sorento</td>\n",
       "      <td>lx</td>\n",
       "      <td>suv</td>\n",
       "      <td>automatic</td>\n",
       "      <td>ga</td>\n",
       "      <td>silver</td>\n",
       "      <td>gray</td>\n",
       "    </tr>\n",
       "    <tr>\n",
       "      <th>...</th>\n",
       "      <td>...</td>\n",
       "      <td>...</td>\n",
       "      <td>...</td>\n",
       "      <td>...</td>\n",
       "      <td>...</td>\n",
       "      <td>...</td>\n",
       "      <td>...</td>\n",
       "      <td>...</td>\n",
       "      <td>...</td>\n",
       "      <td>...</td>\n",
       "      <td>...</td>\n",
       "    </tr>\n",
       "    <tr>\n",
       "      <th>377738</th>\n",
       "      <td>-0.97207</td>\n",
       "      <td>0.926038</td>\n",
       "      <td>-1.164231</td>\n",
       "      <td>toyota</td>\n",
       "      <td>corolla</td>\n",
       "      <td>s</td>\n",
       "      <td>sedan</td>\n",
       "      <td>automatic</td>\n",
       "      <td>tn</td>\n",
       "      <td>silver</td>\n",
       "      <td>black</td>\n",
       "    </tr>\n",
       "    <tr>\n",
       "      <th>377739</th>\n",
       "      <td>-0.71024</td>\n",
       "      <td>-0.875907</td>\n",
       "      <td>-0.890523</td>\n",
       "      <td>ford</td>\n",
       "      <td>fusion</td>\n",
       "      <td>titanium</td>\n",
       "      <td>sedan</td>\n",
       "      <td>automatic</td>\n",
       "      <td>ca</td>\n",
       "      <td>white</td>\n",
       "      <td>black</td>\n",
       "    </tr>\n",
       "    <tr>\n",
       "      <th>377740</th>\n",
       "      <td>-1.233901</td>\n",
       "      <td>0.714044</td>\n",
       "      <td>-0.690216</td>\n",
       "      <td>ford</td>\n",
       "      <td>focus</td>\n",
       "      <td>se</td>\n",
       "      <td>hatchback</td>\n",
       "      <td>automatic</td>\n",
       "      <td>ca</td>\n",
       "      <td>gray</td>\n",
       "      <td>black</td>\n",
       "    </tr>\n",
       "    <tr>\n",
       "      <th>377741</th>\n",
       "      <td>-0.71024</td>\n",
       "      <td>-1.617885</td>\n",
       "      <td>0.064819</td>\n",
       "      <td>ford</td>\n",
       "      <td>explorer</td>\n",
       "      <td>xlt</td>\n",
       "      <td>suv</td>\n",
       "      <td>automatic</td>\n",
       "      <td>wi</td>\n",
       "      <td>silver</td>\n",
       "      <td>black</td>\n",
       "    </tr>\n",
       "    <tr>\n",
       "      <th>377742</th>\n",
       "      <td>0.337082</td>\n",
       "      <td>1.244028</td>\n",
       "      <td>-0.457143</td>\n",
       "      <td>toyota</td>\n",
       "      <td>rav4</td>\n",
       "      <td>base</td>\n",
       "      <td>suv</td>\n",
       "      <td>automatic</td>\n",
       "      <td>pa</td>\n",
       "      <td>red</td>\n",
       "      <td>tan</td>\n",
       "    </tr>\n",
       "  </tbody>\n",
       "</table>\n",
       "<p>377743 rows × 11 columns</p>\n",
       "</div>"
      ],
      "text/plain": [
       "              0         1         2          3                 4         5   \\\n",
       "0      -0.186579  1.138031 -0.234132   cadillac          escalade    luxury   \n",
       "1       -0.71024  -0.76991 -0.744838      lexus            rx 350      base   \n",
       "2       -0.71024 -0.239927 -0.181472  chevrolet            impala  ls fleet   \n",
       "3       -0.71024  0.502051 -0.448196   chrysler  town and country   touring   \n",
       "4       -0.97207  0.078064 -0.538509        kia           sorento        lx   \n",
       "...          ...       ...       ...        ...               ...       ...   \n",
       "377738  -0.97207  0.926038 -1.164231     toyota           corolla         s   \n",
       "377739  -0.71024 -0.875907 -0.890523       ford            fusion  titanium   \n",
       "377740 -1.233901  0.714044 -0.690216       ford             focus        se   \n",
       "377741  -0.71024 -1.617885  0.064819       ford          explorer       xlt   \n",
       "377742  0.337082  1.244028 -0.457143     toyota              rav4      base   \n",
       "\n",
       "               6          7   8       9      10  \n",
       "0             suv  automatic  mn  silver  black  \n",
       "1             suv  automatic  wi    gray  black  \n",
       "2           sedan  automatic  nv  silver   gray  \n",
       "3         minivan  automatic  tx    blue  black  \n",
       "4             suv  automatic  ga  silver   gray  \n",
       "...           ...        ...  ..     ...    ...  \n",
       "377738      sedan  automatic  tn  silver  black  \n",
       "377739      sedan  automatic  ca   white  black  \n",
       "377740  hatchback  automatic  ca    gray  black  \n",
       "377741        suv  automatic  wi  silver  black  \n",
       "377742        suv  automatic  pa     red    tan  \n",
       "\n",
       "[377743 rows x 11 columns]"
      ]
     },
     "execution_count": 204,
     "metadata": {},
     "output_type": "execute_result"
    }
   ],
   "source": [
    "import pandas as pd\n",
    "from sklearn.preprocessing import StandardScaler\n",
    "from sklearn.compose import ColumnTransformer\n",
    "scaler=StandardScaler()\n",
    "num_attribs=['age','condition','odometer']\n",
    "ct=ColumnTransformer([\n",
    "        (\"num\", StandardScaler(), num_attribs),\n",
    "    ],remainder='passthrough')\n",
    "nparray=ct.fit_transform(X_train_lgb)\n",
    "X_train_lgb=pd.DataFrame(nparray)\n",
    "X_train_lgb"
   ]
  },
  {
   "cell_type": "code",
   "execution_count": 103,
   "metadata": {},
   "outputs": [
    {
     "data": {
      "text/html": [
       "<div>\n",
       "<style scoped>\n",
       "    .dataframe tbody tr th:only-of-type {\n",
       "        vertical-align: middle;\n",
       "    }\n",
       "\n",
       "    .dataframe tbody tr th {\n",
       "        vertical-align: top;\n",
       "    }\n",
       "\n",
       "    .dataframe thead th {\n",
       "        text-align: right;\n",
       "    }\n",
       "</style>\n",
       "<table border=\"1\" class=\"dataframe\">\n",
       "  <thead>\n",
       "    <tr style=\"text-align: right;\">\n",
       "      <th></th>\n",
       "      <th>0</th>\n",
       "      <th>1</th>\n",
       "      <th>2</th>\n",
       "      <th>3</th>\n",
       "      <th>4</th>\n",
       "      <th>5</th>\n",
       "      <th>6</th>\n",
       "      <th>7</th>\n",
       "      <th>8</th>\n",
       "      <th>9</th>\n",
       "      <th>10</th>\n",
       "    </tr>\n",
       "  </thead>\n",
       "  <tbody>\n",
       "    <tr>\n",
       "      <th>0</th>\n",
       "      <td>1.384769</td>\n",
       "      <td>-1.087295</td>\n",
       "      <td>0.727946</td>\n",
       "      <td>nissan</td>\n",
       "      <td>pathfinder</td>\n",
       "      <td>se</td>\n",
       "      <td>suv</td>\n",
       "      <td>automatic</td>\n",
       "      <td>pa</td>\n",
       "      <td>gray</td>\n",
       "      <td>gray</td>\n",
       "    </tr>\n",
       "    <tr>\n",
       "      <th>1</th>\n",
       "      <td>-0.711168</td>\n",
       "      <td>0.289993</td>\n",
       "      <td>-0.544801</td>\n",
       "      <td>honda</td>\n",
       "      <td>civic</td>\n",
       "      <td>lx</td>\n",
       "      <td>sedan</td>\n",
       "      <td>automatic</td>\n",
       "      <td>tx</td>\n",
       "      <td>red</td>\n",
       "      <td>tan</td>\n",
       "    </tr>\n",
       "    <tr>\n",
       "      <th>2</th>\n",
       "      <td>-0.449176</td>\n",
       "      <td>0.395938</td>\n",
       "      <td>-0.577221</td>\n",
       "      <td>hyundai</td>\n",
       "      <td>sonata</td>\n",
       "      <td>gls</td>\n",
       "      <td>sedan</td>\n",
       "      <td>automatic</td>\n",
       "      <td>oh</td>\n",
       "      <td>black</td>\n",
       "      <td>gray</td>\n",
       "    </tr>\n",
       "    <tr>\n",
       "      <th>3</th>\n",
       "      <td>-0.449176</td>\n",
       "      <td>0.607829</td>\n",
       "      <td>-0.408809</td>\n",
       "      <td>ford</td>\n",
       "      <td>f-150</td>\n",
       "      <td>xlt</td>\n",
       "      <td>supercrew</td>\n",
       "      <td>automatic</td>\n",
       "      <td>ms</td>\n",
       "      <td>—</td>\n",
       "      <td>gray</td>\n",
       "    </tr>\n",
       "    <tr>\n",
       "      <th>4</th>\n",
       "      <td>1.122777</td>\n",
       "      <td>-0.875404</td>\n",
       "      <td>1.322062</td>\n",
       "      <td>dodge</td>\n",
       "      <td>magnum</td>\n",
       "      <td>se</td>\n",
       "      <td>wagon</td>\n",
       "      <td>automatic</td>\n",
       "      <td>ca</td>\n",
       "      <td>gray</td>\n",
       "      <td>gray</td>\n",
       "    </tr>\n",
       "    <tr>\n",
       "      <th>...</th>\n",
       "      <td>...</td>\n",
       "      <td>...</td>\n",
       "      <td>...</td>\n",
       "      <td>...</td>\n",
       "      <td>...</td>\n",
       "      <td>...</td>\n",
       "      <td>...</td>\n",
       "      <td>...</td>\n",
       "      <td>...</td>\n",
       "      <td>...</td>\n",
       "      <td>...</td>\n",
       "    </tr>\n",
       "    <tr>\n",
       "      <th>94431</th>\n",
       "      <td>-1.235152</td>\n",
       "      <td>0.184048</td>\n",
       "      <td>-0.989602</td>\n",
       "      <td>ford</td>\n",
       "      <td>focus</td>\n",
       "      <td>se</td>\n",
       "      <td>sedan</td>\n",
       "      <td>automatic</td>\n",
       "      <td>pa</td>\n",
       "      <td>silver</td>\n",
       "      <td>beige</td>\n",
       "    </tr>\n",
       "    <tr>\n",
       "      <th>94432</th>\n",
       "      <td>-0.97316</td>\n",
       "      <td>1.137555</td>\n",
       "      <td>-0.992768</td>\n",
       "      <td>ford</td>\n",
       "      <td>f-150</td>\n",
       "      <td>xlt</td>\n",
       "      <td>supercab</td>\n",
       "      <td>automatic</td>\n",
       "      <td>mi</td>\n",
       "      <td>black</td>\n",
       "      <td>gray</td>\n",
       "    </tr>\n",
       "    <tr>\n",
       "      <th>94433</th>\n",
       "      <td>-0.187184</td>\n",
       "      <td>-2.570528</td>\n",
       "      <td>0.051786</td>\n",
       "      <td>chevrolet</td>\n",
       "      <td>hhr</td>\n",
       "      <td>lt</td>\n",
       "      <td>wagon</td>\n",
       "      <td>automatic</td>\n",
       "      <td>il</td>\n",
       "      <td>silver</td>\n",
       "      <td>black</td>\n",
       "    </tr>\n",
       "    <tr>\n",
       "      <th>94434</th>\n",
       "      <td>0.598793</td>\n",
       "      <td>-1.511076</td>\n",
       "      <td>-1.286728</td>\n",
       "      <td>saturn</td>\n",
       "      <td>vue</td>\n",
       "      <td>xe</td>\n",
       "      <td>suv</td>\n",
       "      <td>automatic</td>\n",
       "      <td>mn</td>\n",
       "      <td>blue</td>\n",
       "      <td>beige</td>\n",
       "    </tr>\n",
       "    <tr>\n",
       "      <th>94435</th>\n",
       "      <td>-0.449176</td>\n",
       "      <td>-0.557569</td>\n",
       "      <td>-0.636461</td>\n",
       "      <td>lexus</td>\n",
       "      <td>rx 350</td>\n",
       "      <td>base</td>\n",
       "      <td>suv</td>\n",
       "      <td>automatic</td>\n",
       "      <td>fl</td>\n",
       "      <td>red</td>\n",
       "      <td>beige</td>\n",
       "    </tr>\n",
       "  </tbody>\n",
       "</table>\n",
       "<p>94436 rows × 11 columns</p>\n",
       "</div>"
      ],
      "text/plain": [
       "             0         1         2          3           4     5          6   \\\n",
       "0      1.384769 -1.087295  0.727946     nissan  pathfinder    se        suv   \n",
       "1     -0.711168  0.289993 -0.544801      honda       civic    lx      sedan   \n",
       "2     -0.449176  0.395938 -0.577221    hyundai      sonata   gls      sedan   \n",
       "3     -0.449176  0.607829 -0.408809       ford       f-150   xlt  supercrew   \n",
       "4      1.122777 -0.875404  1.322062      dodge      magnum    se      wagon   \n",
       "...         ...       ...       ...        ...         ...   ...        ...   \n",
       "94431 -1.235152  0.184048 -0.989602       ford       focus    se      sedan   \n",
       "94432  -0.97316  1.137555 -0.992768       ford       f-150   xlt   supercab   \n",
       "94433 -0.187184 -2.570528  0.051786  chevrolet         hhr    lt      wagon   \n",
       "94434  0.598793 -1.511076 -1.286728     saturn         vue    xe        suv   \n",
       "94435 -0.449176 -0.557569 -0.636461      lexus      rx 350  base        suv   \n",
       "\n",
       "              7   8       9      10  \n",
       "0      automatic  pa    gray   gray  \n",
       "1      automatic  tx     red    tan  \n",
       "2      automatic  oh   black   gray  \n",
       "3      automatic  ms       —   gray  \n",
       "4      automatic  ca    gray   gray  \n",
       "...          ...  ..     ...    ...  \n",
       "94431  automatic  pa  silver  beige  \n",
       "94432  automatic  mi   black   gray  \n",
       "94433  automatic  il  silver  black  \n",
       "94434  automatic  mn    blue  beige  \n",
       "94435  automatic  fl     red  beige  \n",
       "\n",
       "[94436 rows x 11 columns]"
      ]
     },
     "execution_count": 103,
     "metadata": {},
     "output_type": "execute_result"
    }
   ],
   "source": [
    "nparray2=ct.fit_transform(X_test_lgb)\n",
    "X_test_lgb=pd.DataFrame(nparray2)\n",
    "X_test_lgb"
   ]
  },
  {
   "cell_type": "code",
   "execution_count": 104,
   "metadata": {},
   "outputs": [],
   "source": [
    "X_train_lgb.columns=[ 'age', 'condition', 'odometer','make', 'model', 'trim', 'body', 'transmission', 'state', 'color','interior']\n",
    "X_test_lgb.columns=[ 'age', 'condition', 'odometer','make', 'model', 'trim', 'body', 'transmission', 'state', 'color','interior']"
   ]
  },
  {
   "cell_type": "code",
   "execution_count": 105,
   "metadata": {},
   "outputs": [],
   "source": [
    "X_train_lgb[['make', 'model', 'trim', 'body', 'transmission', 'state', 'color','interior']]=X_train_lgb[['make', 'model', 'trim', 'body', 'transmission', 'state', 'color','interior']].astype('category')\n",
    "X_train_lgb[['age', 'condition', 'odometer']]=X_train_lgb[['age', 'condition', 'odometer']].astype(float)\n",
    "X_test_lgb[['make', 'model', 'trim', 'body', 'transmission', 'state', 'color','interior']]=X_test_lgb[['make', 'model', 'trim', 'body', 'transmission', 'state', 'color','interior']].astype('category')\n",
    "X_test_lgb[['age', 'condition', 'odometer']]=X_test_lgb[['age', 'condition', 'odometer']].astype(float)"
   ]
  },
  {
   "cell_type": "code",
   "execution_count": 106,
   "metadata": {},
   "outputs": [
    {
     "data": {
      "text/plain": [
       "age              float64\n",
       "condition        float64\n",
       "odometer         float64\n",
       "make            category\n",
       "model           category\n",
       "trim            category\n",
       "body            category\n",
       "transmission    category\n",
       "state           category\n",
       "color           category\n",
       "interior        category\n",
       "dtype: object"
      ]
     },
     "execution_count": 106,
     "metadata": {},
     "output_type": "execute_result"
    }
   ],
   "source": [
    "X_train_lgb.dtypes"
   ]
  },
  {
   "cell_type": "code",
   "execution_count": 112,
   "metadata": {},
   "outputs": [
    {
     "name": "stdout",
     "output_type": "stream",
     "text": [
      "Wall time: 604 ms\n"
     ]
    },
    {
     "data": {
      "text/plain": [
       "LGBMRegressor()"
      ]
     },
     "execution_count": 112,
     "metadata": {},
     "output_type": "execute_result"
    }
   ],
   "source": [
    "%%time\n",
    "import lightgbm as lgb\n",
    "bst_lgb=lgb.LGBMRegressor()\n",
    "bst_lgb.fit(X_train_lgb,y_train_lgb,feature_name='auto',categorical_feature=['make', 'model', 'trim', 'body', 'transmission', 'state', 'color','interior'])"
   ]
  },
  {
   "cell_type": "code",
   "execution_count": 113,
   "metadata": {},
   "outputs": [
    {
     "data": {
      "text/plain": [
       "0.9584041008041604"
      ]
     },
     "execution_count": 113,
     "metadata": {},
     "output_type": "execute_result"
    }
   ],
   "source": [
    "bst_lgb.score(X_train_lgb,y_train_lgb)"
   ]
  },
  {
   "cell_type": "code",
   "execution_count": 114,
   "metadata": {},
   "outputs": [
    {
     "data": {
      "text/plain": [
       "0.9537921451102358"
      ]
     },
     "execution_count": 114,
     "metadata": {},
     "output_type": "execute_result"
    }
   ],
   "source": [
    "bst_lgb.score(X_test_lgb,y_test_lgb)"
   ]
  },
  {
   "cell_type": "markdown",
   "metadata": {},
   "source": [
    "### feature importance"
   ]
  },
  {
   "cell_type": "code",
   "execution_count": 115,
   "metadata": {},
   "outputs": [
    {
     "data": {
      "text/plain": [
       "{937: 'model',\n",
       " 754: 'trim',\n",
       " 362: 'odometer',\n",
       " 314: 'age',\n",
       " 231: 'make',\n",
       " 149: 'body',\n",
       " 122: 'condition',\n",
       " 71: 'state',\n",
       " 30: 'interior',\n",
       " 24: 'color',\n",
       " 6: 'transmission'}"
      ]
     },
     "execution_count": 115,
     "metadata": {},
     "output_type": "execute_result"
    }
   ],
   "source": [
    "importance=bst_lgb.feature_importances_\n",
    "names=bst_lgb.feature_name_\n",
    "dict(sorted(zip(importance,names),reverse=True))"
   ]
  },
  {
   "cell_type": "code",
   "execution_count": 116,
   "metadata": {},
   "outputs": [
    {
     "data": {
      "text/plain": [
       "{'boosting_type': 'gbdt',\n",
       " 'class_weight': None,\n",
       " 'colsample_bytree': 1.0,\n",
       " 'importance_type': 'split',\n",
       " 'learning_rate': 0.1,\n",
       " 'max_depth': -1,\n",
       " 'min_child_samples': 20,\n",
       " 'min_child_weight': 0.001,\n",
       " 'min_split_gain': 0.0,\n",
       " 'n_estimators': 100,\n",
       " 'n_jobs': -1,\n",
       " 'num_leaves': 31,\n",
       " 'objective': None,\n",
       " 'random_state': None,\n",
       " 'reg_alpha': 0.0,\n",
       " 'reg_lambda': 0.0,\n",
       " 'silent': 'warn',\n",
       " 'subsample': 1.0,\n",
       " 'subsample_for_bin': 200000,\n",
       " 'subsample_freq': 0}"
      ]
     },
     "execution_count": 116,
     "metadata": {},
     "output_type": "execute_result"
    }
   ],
   "source": [
    "bst_lgb.get_params(deep=True)"
   ]
  },
  {
   "cell_type": "code",
   "execution_count": 117,
   "metadata": {},
   "outputs": [
    {
     "name": "stderr",
     "output_type": "stream",
     "text": [
      "C:\\Users\\13202\\anaconda3\\lib\\site-packages\\lightgbm\\basic.py:2065: UserWarning: Using categorical_feature in Dataset.\n",
      "  _log_warning('Using categorical_feature in Dataset.')\n"
     ]
    },
    {
     "name": "stdout",
     "output_type": "stream",
     "text": [
      "Wall time: 1min 9s\n"
     ]
    },
    {
     "data": {
      "text/plain": [
       "GridSearchCV(cv=3, estimator=LGBMRegressor(), n_jobs=5,\n",
       "             param_grid=[{'n_estimators': [100, 200, 300, 400, 500, 600, 700,\n",
       "                                           800, 900, 1000]}],\n",
       "             return_train_score=True, scoring='r2')"
      ]
     },
     "execution_count": 117,
     "metadata": {},
     "output_type": "execute_result"
    }
   ],
   "source": [
    "%%time\n",
    "param_grid = [\n",
    "    {'n_estimators': list(range(100,1100,100))},\n",
    "  ]\n",
    "bst_lgb1=lgb.LGBMRegressor(n_jobs=-1)\n",
    "grid_search_lgb1 = GridSearchCV(bst_lgb1, param_grid, cv=3,\n",
    "                           scoring='r2', return_train_score=True,n_jobs=5)\n",
    "grid_search_lgb1.fit(X_train_lgb, y_train_lgb,feature_name='auto',categorical_feature=['make', 'model', 'trim', 'body', 'transmission', 'state', 'color','interior'])"
   ]
  },
  {
   "cell_type": "code",
   "execution_count": 118,
   "metadata": {},
   "outputs": [
    {
     "data": {
      "text/plain": [
       "LGBMRegressor(n_estimators=1000)"
      ]
     },
     "execution_count": 118,
     "metadata": {},
     "output_type": "execute_result"
    }
   ],
   "source": [
    "grid_search_lgb1.best_estimator_"
   ]
  },
  {
   "cell_type": "code",
   "execution_count": 125,
   "metadata": {},
   "outputs": [
    {
     "data": {
      "text/plain": [
       "0.974343716848096"
      ]
     },
     "execution_count": 125,
     "metadata": {},
     "output_type": "execute_result"
    }
   ],
   "source": [
    "grid_search_lgb1.score(X_train_lgb,y_train_lgb)"
   ]
  },
  {
   "cell_type": "code",
   "execution_count": 126,
   "metadata": {},
   "outputs": [
    {
     "data": {
      "text/plain": [
       "0.9643355155601905"
      ]
     },
     "execution_count": 126,
     "metadata": {},
     "output_type": "execute_result"
    }
   ],
   "source": [
    "grid_search_lgb1.score(X_test_lgb,y_test_lgb)"
   ]
  },
  {
   "cell_type": "code",
   "execution_count": 121,
   "metadata": {},
   "outputs": [
    {
     "name": "stderr",
     "output_type": "stream",
     "text": [
      "C:\\Users\\13202\\anaconda3\\lib\\site-packages\\lightgbm\\basic.py:2065: UserWarning: Using categorical_feature in Dataset.\n",
      "  _log_warning('Using categorical_feature in Dataset.')\n"
     ]
    },
    {
     "name": "stdout",
     "output_type": "stream",
     "text": [
      "Wall time: 7min 35s\n"
     ]
    },
    {
     "data": {
      "text/plain": [
       "GridSearchCV(cv=3, estimator=LGBMRegressor(n_estimators=1000), n_jobs=5,\n",
       "             param_grid=[{'max_depth': [4, 5, 6, 7, 8, 9],\n",
       "                          'num_leaves': [30, 40, 50, 60, 70]}],\n",
       "             return_train_score=True, scoring='r2')"
      ]
     },
     "execution_count": 121,
     "metadata": {},
     "output_type": "execute_result"
    }
   ],
   "source": [
    "%%time\n",
    "param_grid = [\n",
    "    {'max_depth': list(range(4,10)),'num_leaves': list(range(30,80,10))},\n",
    "  ]\n",
    "bst_lgb2=lgb.LGBMRegressor(n_jobs=-1,n_estimators=1000)\n",
    "\n",
    "grid_search_lgb2 = GridSearchCV(bst_lgb2, param_grid, cv=3,\n",
    "                           scoring='r2', return_train_score=True,n_jobs=5)\n",
    "                           \n",
    "grid_search_lgb2.fit(X_train_lgb, y_train_lgb,feature_name='auto',categorical_feature=['make', 'model', 'trim', 'body', 'transmission', 'state', 'color','interior'])"
   ]
  },
  {
   "cell_type": "code",
   "execution_count": 122,
   "metadata": {},
   "outputs": [
    {
     "data": {
      "text/plain": [
       "LGBMRegressor(max_depth=8, n_estimators=1000, num_leaves=70)"
      ]
     },
     "execution_count": 122,
     "metadata": {},
     "output_type": "execute_result"
    }
   ],
   "source": [
    "grid_search_lgb2.best_estimator_"
   ]
  },
  {
   "cell_type": "code",
   "execution_count": 127,
   "metadata": {},
   "outputs": [
    {
     "data": {
      "text/plain": [
       "0.9778360584122503"
      ]
     },
     "execution_count": 127,
     "metadata": {},
     "output_type": "execute_result"
    }
   ],
   "source": [
    "grid_search_lgb2.score(X_train_lgb,y_train_lgb)"
   ]
  },
  {
   "cell_type": "code",
   "execution_count": 128,
   "metadata": {
    "scrolled": true
   },
   "outputs": [
    {
     "data": {
      "text/plain": [
       "0.9651224328066688"
      ]
     },
     "execution_count": 128,
     "metadata": {},
     "output_type": "execute_result"
    }
   ],
   "source": [
    "grid_search_lgb2.score(X_test_lgb,y_test_lgb)"
   ]
  },
  {
   "cell_type": "code",
   "execution_count": 129,
   "metadata": {},
   "outputs": [
    {
     "name": "stderr",
     "output_type": "stream",
     "text": [
      "C:\\Users\\13202\\anaconda3\\lib\\site-packages\\lightgbm\\basic.py:2065: UserWarning: Using categorical_feature in Dataset.\n",
      "  _log_warning('Using categorical_feature in Dataset.')\n"
     ]
    },
    {
     "name": "stdout",
     "output_type": "stream",
     "text": [
      "Wall time: 6min 18s\n"
     ]
    },
    {
     "data": {
      "text/plain": [
       "GridSearchCV(cv=3, estimator=LGBMRegressor(max_depth=8, n_estimators=1000),\n",
       "             n_jobs=5,\n",
       "             param_grid=[{'num_leaves': [70, 100, 130, 160, 190, 220, 250]}],\n",
       "             return_train_score=True, scoring='r2')"
      ]
     },
     "execution_count": 129,
     "metadata": {},
     "output_type": "execute_result"
    }
   ],
   "source": [
    "%%time\n",
    "param_grid = [\n",
    "    {'num_leaves': list(range(70,260,30))},\n",
    "  ]\n",
    "bst_lgb3=lgb.LGBMRegressor(n_jobs=-1,n_estimators=1000,max_depth=8)\n",
    "\n",
    "grid_search_lgb3 = GridSearchCV(bst_lgb3, param_grid, cv=3,\n",
    "                           scoring='r2', return_train_score=True,n_jobs=5)\n",
    "                           \n",
    "grid_search_lgb3.fit(X_train_lgb, y_train_lgb,feature_name='auto',categorical_feature=['make', 'model', 'trim', 'body', 'transmission', 'state', 'color','interior'])"
   ]
  },
  {
   "cell_type": "code",
   "execution_count": 130,
   "metadata": {},
   "outputs": [
    {
     "data": {
      "text/plain": [
       "LGBMRegressor(max_depth=8, n_estimators=1000, num_leaves=190)"
      ]
     },
     "execution_count": 130,
     "metadata": {},
     "output_type": "execute_result"
    }
   ],
   "source": [
    "grid_search_lgb3.best_estimator_"
   ]
  },
  {
   "cell_type": "code",
   "execution_count": 131,
   "metadata": {},
   "outputs": [
    {
     "data": {
      "text/plain": [
       "0.9808205607109471"
      ]
     },
     "execution_count": 131,
     "metadata": {},
     "output_type": "execute_result"
    }
   ],
   "source": [
    "grid_search_lgb3.score(X_train_lgb,y_train_lgb)"
   ]
  },
  {
   "cell_type": "code",
   "execution_count": 132,
   "metadata": {},
   "outputs": [
    {
     "data": {
      "text/plain": [
       "0.9654080250221088"
      ]
     },
     "execution_count": 132,
     "metadata": {},
     "output_type": "execute_result"
    }
   ],
   "source": [
    "grid_search_lgb3.score(X_test_lgb,y_test_lgb)"
   ]
  },
  {
   "cell_type": "code",
   "execution_count": 134,
   "metadata": {},
   "outputs": [
    {
     "name": "stderr",
     "output_type": "stream",
     "text": [
      "C:\\Users\\13202\\anaconda3\\lib\\site-packages\\lightgbm\\basic.py:2065: UserWarning: Using categorical_feature in Dataset.\n",
      "  _log_warning('Using categorical_feature in Dataset.')\n"
     ]
    },
    {
     "name": "stdout",
     "output_type": "stream",
     "text": [
      "Wall time: 5min 47s\n"
     ]
    },
    {
     "data": {
      "text/plain": [
       "GridSearchCV(cv=3,\n",
       "             estimator=LGBMRegressor(max_depth=8, n_estimators=1000,\n",
       "                                     num_leaves=190),\n",
       "             n_jobs=5,\n",
       "             param_grid=[{'learning_rate': [0.01, 0.03, 0.05, 0.1, 0.2, 0.3]}],\n",
       "             return_train_score=True, scoring='r2')"
      ]
     },
     "execution_count": 134,
     "metadata": {},
     "output_type": "execute_result"
    }
   ],
   "source": [
    "%%time\n",
    "param_grid = [\n",
    "    {'learning_rate': [0.01,0.03,0.05,0.1,0.2,0.3]},\n",
    "  ]\n",
    "bst_lgb4=lgb.LGBMRegressor(n_jobs=-1,n_estimators=1000,max_depth=8,num_leaves=190)\n",
    "\n",
    "grid_search_lgb4 = GridSearchCV(bst_lgb4, param_grid, cv=3,\n",
    "                           scoring='r2', return_train_score=True,n_jobs=5)\n",
    "                           \n",
    "grid_search_lgb4.fit(X_train_lgb, y_train_lgb,feature_name='auto',categorical_feature=['make', 'model', 'trim', 'body', 'transmission', 'state', 'color','interior'])"
   ]
  },
  {
   "cell_type": "code",
   "execution_count": 135,
   "metadata": {},
   "outputs": [
    {
     "data": {
      "text/plain": [
       "LGBMRegressor(max_depth=8, n_estimators=1000, num_leaves=190)"
      ]
     },
     "execution_count": 135,
     "metadata": {},
     "output_type": "execute_result"
    }
   ],
   "source": [
    "grid_search_lgb4.best_estimator_"
   ]
  },
  {
   "cell_type": "code",
   "execution_count": 137,
   "metadata": {},
   "outputs": [
    {
     "data": {
      "text/plain": [
       "0.9808205607109471"
      ]
     },
     "execution_count": 137,
     "metadata": {},
     "output_type": "execute_result"
    }
   ],
   "source": [
    "grid_search_lgb4.score(X_train_lgb,y_train_lgb)"
   ]
  },
  {
   "cell_type": "code",
   "execution_count": 138,
   "metadata": {},
   "outputs": [
    {
     "data": {
      "text/plain": [
       "0.9654080250221088"
      ]
     },
     "execution_count": 138,
     "metadata": {},
     "output_type": "execute_result"
    }
   ],
   "source": [
    "grid_search_lgb4.score(X_test_lgb,y_test_lgb)"
   ]
  },
  {
   "cell_type": "markdown",
   "metadata": {},
   "source": [
    "'grid_search_lgb4' gives the best results and also fits the data fastest. Also, it gives us some information about the feature importance since it can deal with categorical data directly without the need of 'one hot encoder'. Therefore, we think that light gradient boost machine is the best for our dataset."
   ]
  },
  {
   "cell_type": "code",
   "execution_count": 139,
   "metadata": {},
   "outputs": [
    {
     "name": "stdout",
     "output_type": "stream",
     "text": [
      "LGBMRegressor(max_depth=8, n_estimators=1000, num_leaves=190)\n",
      "0.9808205607109471\n",
      "0.9654080250221088\n"
     ]
    }
   ],
   "source": [
    "print(grid_search_lgb4.best_estimator_)\n",
    "print(grid_search_lgb4.score(X_train_lgb,y_train_lgb))\n",
    "print(grid_search_lgb4.score(X_test_lgb,y_test_lgb))"
   ]
  },
  {
   "cell_type": "code",
   "execution_count": 140,
   "metadata": {},
   "outputs": [
    {
     "data": {
      "text/plain": [
       "1331.9477177821816"
      ]
     },
     "execution_count": 140,
     "metadata": {},
     "output_type": "execute_result"
    }
   ],
   "source": [
    "mean_squared_error(grid_search_lgb4.predict(X_train_lgb),y_train_lgb,squared=False)"
   ]
  },
  {
   "cell_type": "code",
   "execution_count": 141,
   "metadata": {},
   "outputs": [
    {
     "data": {
      "text/plain": [
       "1780.067616719293"
      ]
     },
     "execution_count": 141,
     "metadata": {},
     "output_type": "execute_result"
    }
   ],
   "source": [
    "mean_squared_error(grid_search_lgb4.predict(X_test_lgb),y_test_lgb,squared=False)"
   ]
  },
  {
   "cell_type": "markdown",
   "metadata": {},
   "source": [
    "## Predict the price"
   ]
  },
  {
   "cell_type": "code",
   "execution_count": null,
   "metadata": {},
   "outputs": [],
   "source": []
  },
  {
   "cell_type": "code",
   "execution_count": null,
   "metadata": {},
   "outputs": [],
   "source": []
  },
  {
   "cell_type": "code",
   "execution_count": null,
   "metadata": {},
   "outputs": [],
   "source": []
  },
  {
   "cell_type": "markdown",
   "metadata": {},
   "source": [
    "# Result Visualization"
   ]
  },
  {
   "cell_type": "code",
   "execution_count": 142,
   "metadata": {},
   "outputs": [
    {
     "data": {
      "text/plain": [
       "<matplotlib.collections.PathCollection at 0x2a238f41ac0>"
      ]
     },
     "execution_count": 142,
     "metadata": {},
     "output_type": "execute_result"
    },
    {
     "data": {
      "image/png": "[encoded data removed]",
      "text/plain": [
       "<Figure size 432x288 with 1 Axes>"
      ]
     },
     "metadata": {
      "needs_background": "light"
     },
     "output_type": "display_data"
    }
   ],
   "source": [
    "import matplotlib.pyplot as plt\n",
    "plt.scatter(df['mmr'],df['sellingprice'])"
   ]
  },
  {
   "cell_type": "code",
   "execution_count": 143,
   "metadata": {},
   "outputs": [
    {
     "data": {
      "text/plain": [
       "1747.3856355457406"
      ]
     },
     "execution_count": 143,
     "metadata": {},
     "output_type": "execute_result"
    }
   ],
   "source": [
    "mean_squared_error(df['mmr'],df['sellingprice'],squared=False)"
   ]
  },
  {
   "cell_type": "code",
   "execution_count": 144,
   "metadata": {},
   "outputs": [],
   "source": [
    "from sklearn.metrics import r2_score"
   ]
  },
  {
   "cell_type": "code",
   "execution_count": 145,
   "metadata": {},
   "outputs": [
    {
     "data": {
      "text/plain": [
       "0.9663954279614954"
      ]
     },
     "execution_count": 145,
     "metadata": {},
     "output_type": "execute_result"
    }
   ],
   "source": [
    "r2_score(df['mmr'],df['sellingprice'])"
   ]
  },
  {
   "cell_type": "code",
   "execution_count": 199,
   "metadata": {},
   "outputs": [],
   "source": [
    "X_lgb=df6[['make', 'model', 'trim', 'body', 'transmission', 'state', 'color','interior', 'age', 'condition', 'odometer']]"
   ]
  },
  {
   "cell_type": "code",
   "execution_count": 205,
   "metadata": {},
   "outputs": [],
   "source": [
    "nparray3=ct.transform(X_lgb)\n",
    "X_lgb=pd.DataFrame(nparray3)"
   ]
  },
  {
   "cell_type": "code",
   "execution_count": 206,
   "metadata": {},
   "outputs": [],
   "source": [
    "X_lgb.columns=[ 'age', 'condition', 'odometer','make', 'model', 'trim', 'body', 'transmission', 'state', 'color','interior']\n",
    "X_lgb[['make', 'model', 'trim', 'body', 'transmission', 'state', 'color','interior']]=X_lgb[['make', 'model', 'trim', 'body', 'transmission', 'state', 'color','interior']].astype('category')\n",
    "X_lgb[['age', 'condition', 'odometer']]=X_lgb[['age', 'condition', 'odometer']].astype(float)"
   ]
  },
  {
   "cell_type": "code",
   "execution_count": 207,
   "metadata": {},
   "outputs": [
    {
     "data": {
      "text/plain": [
       "age              float64\n",
       "condition        float64\n",
       "odometer         float64\n",
       "make            category\n",
       "model           category\n",
       "trim            category\n",
       "body            category\n",
       "transmission    category\n",
       "state           category\n",
       "color           category\n",
       "interior        category\n",
       "dtype: object"
      ]
     },
     "execution_count": 207,
     "metadata": {},
     "output_type": "execute_result"
    }
   ],
   "source": [
    "X_lgb.dtypes"
   ]
  },
  {
   "cell_type": "code",
   "execution_count": 225,
   "metadata": {},
   "outputs": [
    {
     "data": {
      "image/png": "[encoded data removed]",
      "text/plain": [
       "<Figure size 720x360 with 2 Axes>"
      ]
     },
     "metadata": {
      "needs_background": "light"
     },
     "output_type": "display_data"
    }
   ],
   "source": [
    "fig,ax=plt.subplots(1,2,figsize=(10,5))\n",
    "ax[0].scatter(df['mmr'],df['sellingprice'],alpha=0.1)\n",
    "ax[0].set_title('mmr and selling price')\n",
    "ax[0].set_xlabel('mmr')\n",
    "ax[0].set_ylabel('selling price')\n",
    "ax[0].set_xticks([0,50000,100000,150000,200000])\n",
    "ax[1].scatter(grid_search_lgb4.predict(X_lgb),df6['sellingprice'],alpha=0.1)\n",
    "ax[1].set_title('our predicting price and selling price')\n",
    "ax[1].set_xlabel('our predicting price')\n",
    "ax[1].set_ylabel('selling price')\n",
    "ax[1].set_xticks([0,50000,100000,150000,200000])\n",
    "plt.show()"
   ]
  },
  {
   "cell_type": "code",
   "execution_count": 217,
   "metadata": {},
   "outputs": [
    {
     "data": {
      "text/plain": [
       "1432.655154540607"
      ]
     },
     "execution_count": 217,
     "metadata": {},
     "output_type": "execute_result"
    }
   ],
   "source": [
    "mean_squared_error(grid_search_lgb4.predict(X_lgb),df6['sellingprice'],squared=False)"
   ]
  },
  {
   "cell_type": "code",
   "execution_count": 226,
   "metadata": {},
   "outputs": [
    {
     "data": {
      "text/plain": [
       "0.9770882651882185"
      ]
     },
     "execution_count": 226,
     "metadata": {},
     "output_type": "execute_result"
    }
   ],
   "source": [
    "r2_score(grid_search_lgb4.predict(X_lgb),df6['sellingprice'])"
   ]
  },
  {
   "cell_type": "markdown",
   "metadata": {},
   "source": [
    "# Result Interpretation"
   ]
  },
  {
   "cell_type": "code",
   "execution_count": null,
   "metadata": {},
   "outputs": [],
   "source": []
  },
  {
   "cell_type": "code",
   "execution_count": null,
   "metadata": {},
   "outputs": [],
   "source": []
  },
  {
   "cell_type": "code",
   "execution_count": null,
   "metadata": {},
   "outputs": [],
   "source": []
  },
  {
   "cell_type": "code",
   "execution_count": null,
   "metadata": {},
   "outputs": [],
   "source": []
  }
 ],
 "metadata": {
  "colab": {
   "name": "Untitled0.ipynb",
   "provenance": []
  },
  "kernelspec": {
   "display_name": "Python 3 (ipykernel)",
   "language": "python",
   "name": "python3"
  },
  "language_info": {
   "codemirror_mode": {
    "name": "ipython",
    "version": 3
   },
   "file_extension": ".py",
   "mimetype": "text/x-python",
   "name": "python",
   "nbconvert_exporter": "python",
   "pygments_lexer": "ipython3",
   "version": "3.8.8"
  }
 },
 "nbformat": 4,
 "nbformat_minor": 1
}
